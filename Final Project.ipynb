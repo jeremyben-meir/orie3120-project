{
 "cells": [
  {
   "cell_type": "code",
   "execution_count": 181,
   "id": "70da8594",
   "metadata": {},
   "outputs": [
    {
     "name": "stderr",
     "output_type": "stream",
     "text": [
      "[nltk_data] Downloading package vader_lexicon to /Users/jeremyben-\n",
      "[nltk_data]     meir/nltk_data...\n",
      "[nltk_data]   Package vader_lexicon is already up-to-date!\n"
     ]
    }
   ],
   "source": [
    "import pandas as pd\n",
    "import statsmodels.api as sm\n",
    "import numpy as np\n",
    "import matplotlib.pyplot as plt\n",
    "import gender_guesser.detector as gender\n",
    "import nltk\n",
    "from nltk.sentiment import SentimentIntensityAnalyzer\n",
    "nltk.download('vader_lexicon')\n",
    "import seaborn as sns\n",
    "from sklearn.model_selection import train_test_split\n",
    "from sklearn.metrics import confusion_matrix"
   ]
  },
  {
   "cell_type": "markdown",
   "id": "24e86627",
   "metadata": {},
   "source": [
    "# DATA CLEANSING"
   ]
  },
  {
   "cell_type": "code",
   "execution_count": 158,
   "id": "d1e6855e",
   "metadata": {},
   "outputs": [],
   "source": [
    "### SALES CSV #############################\n",
    "\n",
    "try:\n",
    "    sales = pd.read_pickle(\"sales.p\")\n",
    "except:\n",
    "    sales = pd.read_csv(\"NYC_Citywide_Rolling_Calendar_Sales.csv\")\n",
    "    print(sales.columns)\n",
    "\n",
    "    sales = sales[~sales['NEIGHBORHOOD'].isna()]\n",
    "    sales = sales[~sales['TOTAL UNITS'].isna()]\n",
    "    sales = sales[~sales['LAND SQUARE FEET'].isna()]\n",
    "    sales = sales[~sales['GROSS SQUARE FEET'].isna()]\n",
    "    sales = sales[~sales['YEAR BUILT'].isna()]\n",
    "    sales = sales[~sales['TAX CLASS AT TIME OF SALE'].isna()]\n",
    "    sales = sales[~sales['BUILDING CLASS AT TIME OF SALE'].isna()]\n",
    "    sales = sales[sales['TOTAL UNITS']>0]\n",
    "    sales['SALE PRICE'] = sales['SALE PRICE'].str.replace(\",\",\"\").astype(int)\n",
    "    sales = sales[~((sales['SALE PRICE'].isna())|(sales['SALE PRICE']<=0))]\n",
    "    sales[\"PRICE/UNIT\"] = sales['SALE PRICE']/sales['TOTAL UNITS']\n",
    "    sales['NEIGHBORHOOD'] = sales['NEIGHBORHOOD'].apply(lambda n: n.replace(\" (79-96)\",\"\").replace(\" (59-79)\",\"\"))\n",
    "    sales.to_pickle(\"sales.p\")\n",
    "    \n",
    "### LISTINGS CSV ##########################\n",
    "\n",
    "try:\n",
    "    listings = pd.read_pickle(\"listings.p\")\n",
    "except:\n",
    "    listings = pd.read_csv(\"listings.csv\")\n",
    "    print(listings.columns)\n",
    "\n",
    "    listings['neighbourhood_cleansed'] = listings['neighbourhood_cleansed'].str.upper().str.replace(\" DISTRICT\",\"\")\n",
    "    listings[\"price\"] = listings['price'].str.replace(\"$\",\"\").str.replace(\",\",\"\").astype(float)\n",
    "\n",
    "    listings = listings[~listings['neighbourhood_cleansed'].isna()]\n",
    "    listings = listings[~listings['number_of_reviews'].isna()]\n",
    "    listings = listings[~listings['bedrooms'].isna()]\n",
    "    listings = listings[~listings['beds'].isna()]\n",
    "    listings = listings[~listings['host_identity_verified'].isna()]\n",
    "    listings = listings[~listings['host_has_profile_pic'].isna()]\n",
    "    listings = listings[~listings['room_type'].isna()]\n",
    "    listings = listings[~listings['review_scores_rating'].isna()]\n",
    "    listings = listings[~listings['minimum_nights'].isna()]\n",
    "    listings = listings[~listings['host_is_superhost'].isna()]\n",
    "    listings = listings[listings['price']>0]\n",
    "    listings['host_is_superhost'] = listings['host_is_superhost'].apply(lambda r: 1 if r==\"t\" else 0)\n",
    "    listings['host_identity_verified'] = listings['host_identity_verified'].apply(lambda r: 1 if r==\"t\" else 0)\n",
    "    listings['host_has_profile_pic'] = listings['host_has_profile_pic'].apply(lambda r: 1 if r==\"t\" else 0)\n",
    "    listings.to_pickle(\"listings.p\")\n",
    "    \n",
    "\n",
    "# print(sales['NEIGHBORHOOD'].nunique())\n",
    "# print(listings['neighbourhood_cleansed'].nunique())\n",
    "\n",
    "# fig, ax = plt.subplots(figsize=(10,6))\n",
    "# plt.title(\"Figure 3: Cheapest Neighborhoods by Unit Sale Price\")\n",
    "# plt.ylabel(\"Sale Price per Unit\")\n",
    "# neighborhood_prices = sales.groupby('NEIGHBORHOOD').agg({'PRICE/UNIT':\"mean\"}).sort_values(\"PRICE/UNIT\",ascending=False)\n",
    "# neighborhood_prices['PRICE/UNIT'][-20:].plot.bar()\n"
   ]
  },
  {
   "cell_type": "markdown",
   "id": "ba2e863f",
   "metadata": {},
   "source": [
    "# Add sentiment to reviews"
   ]
  },
  {
   "cell_type": "code",
   "execution_count": 159,
   "id": "083e8ef5",
   "metadata": {},
   "outputs": [],
   "source": [
    "sia = SentimentIntensityAnalyzer()\n",
    "reviews = pd.read_csv(\"reviews.csv\")\n",
    "reviews = reviews[~reviews[\"comments\"].isna()]\n",
    "\n",
    "try:\n",
    "    listings_reviews = pd.read_pickle(\"listings-reviews.p\")\n",
    "except:\n",
    "    global count\n",
    "    count = 0\n",
    "    print(len(reviews[\"comments\"]))\n",
    "\n",
    "    def add_score(comment):\n",
    "        try:\n",
    "            global count\n",
    "            count+=1\n",
    "            if count%100000 == 0:\n",
    "                print(count)\n",
    "            return sia.polarity_scores(comment)[\"compound\"]\n",
    "        except:\n",
    "            print(comment)\n",
    "\n",
    "    reviews[\"sentiment\"] = reviews[\"comments\"].apply(lambda comment: add_score(comment))\n",
    "\n",
    "    # merge average sentiment into reviews\n",
    "    sentiment_df = reviews.groupby(\"listing_id\").agg({\"sentiment\":\"mean\"})\n",
    "    listings_reviews = listings.merge(sentiment_df, how=\"inner\", left_on='id', right_on='listing_id')\n",
    "\n",
    "    mean_sentiment = listings_reviews[\"sentiment\"].mean()\n",
    "    listings_reviews['sentiment_binary'] = listings_reviews['sentiment'].apply(lambda s : 1 if s > mean_sentiment else 0)\n",
    "\n",
    "    listings_reviews.to_pickle(\"listings-reviews.p\")\n",
    "\n"
   ]
  },
  {
   "cell_type": "markdown",
   "id": "16034dcc",
   "metadata": {},
   "source": [
    "# Q1"
   ]
  },
  {
   "cell_type": "markdown",
   "id": "12e0fb69",
   "metadata": {},
   "source": [
    "### OPENDATA: neighborhood coef on sale price"
   ]
  },
  {
   "cell_type": "code",
   "execution_count": 160,
   "id": "9041e90c",
   "metadata": {},
   "outputs": [
    {
     "name": "stderr",
     "output_type": "stream",
     "text": [
      "/Users/jeremyben-meir/opt/anaconda3/lib/python3.8/site-packages/statsmodels/tsa/tsatools.py:142: FutureWarning: In a future version of pandas all arguments of concat except for the argument 'objs' will be keyword-only.\n",
      "  x = pd.concat(x[::order], 1)\n"
     ]
    },
    {
     "name": "stdout",
     "output_type": "stream",
     "text": [
      "neighborhood_FLATIRON                -1.315709e+16\n",
      "neighborhood_DOWNTOWN-FULTON MALL    -1.095353e+16\n",
      "neighborhood_MIDTOWN CBD             -4.848817e+15\n",
      "neighborhood_MIDTOWN EAST            -3.120008e+15\n",
      "neighborhood_BROOKLYN HEIGHTS         2.982288e+15\n",
      "neighborhood_SOHO                     4.381627e+15\n",
      "neighborhood_DOWNTOWN-FULTON FERRY    6.184072e+15\n",
      "neighborhood_MIDTOWN WEST             1.266708e+16\n",
      "dtype: float64\n"
     ]
    }
   ],
   "source": [
    "X = pd.concat([\n",
    "        pd.get_dummies(sales['NEIGHBORHOOD'], prefix=\"neighborhood\", drop_first=True),\n",
    "        sales['TOTAL UNITS'].astype(int),\n",
    "        sales['LAND SQUARE FEET'].str.replace(\",\",\"\").astype(int),\n",
    "        sales['GROSS SQUARE FEET'].astype(int),\n",
    "        sales['YEAR BUILT'].astype(int),\n",
    "        pd.get_dummies(sales['TAX CLASS AT TIME OF SALE'], prefix=\"taxclass\", drop_first=True),\n",
    "        pd.get_dummies(sales['BUILDING CLASS AT TIME OF SALE'], prefix=\"bldgclass\", drop_first=True),\n",
    "    ],axis=1)\n",
    "\n",
    "Y = sales['SALE PRICE']**2\n",
    "X = sm.add_constant(X)\n",
    "model = sm.OLS(Y, X).fit()\n",
    "# print(model.summary())\n",
    "\n",
    "neighborhood_params = model.params.loc[[val for val in model.params.index if \"neighborhood_\" in val]]\n",
    "significant_params = neighborhood_params[neighborhood_params.index.isin(model.pvalues[model.pvalues<=.05].index)]\n",
    "print(significant_params.sort_values())\n",
    "\n"
   ]
  },
  {
   "cell_type": "code",
   "execution_count": 161,
   "id": "c9a72060",
   "metadata": {},
   "outputs": [
    {
     "name": "stderr",
     "output_type": "stream",
     "text": [
      "/Users/jeremyben-meir/opt/anaconda3/lib/python3.8/site-packages/statsmodels/graphics/gofplots.py:993: UserWarning: marker is redundantly defined by the 'marker' keyword argument and the fmt string \"bo\" (-> marker='o'). The keyword argument will take precedence.\n",
      "  ax.plot(x, y, fmt, **plot_style)\n"
     ]
    },
    {
     "data": {
      "image/png": "[encoded data removed]",
      "text/plain": [
       "<Figure size 432x288 with 1 Axes>"
      ]
     },
     "execution_count": 161,
     "metadata": {},
     "output_type": "execute_result"
    },
    {
     "data": {
      "image/png": "[encoded data removed]",
      "text/plain": [
       "<Figure size 432x288 with 1 Axes>"
      ]
     },
     "metadata": {
      "needs_background": "light"
     },
     "output_type": "display_data"
    },
    {
     "data": {
      "image/png": "[encoded data removed]",
      "text/plain": [
       "<Figure size 432x288 with 1 Axes>"
      ]
     },
     "metadata": {
      "needs_background": "light"
     },
     "output_type": "display_data"
    },
    {
     "data": {
      "image/png": "[encoded data removed]",
      "text/plain": [
       "<Figure size 432x288 with 1 Axes>"
      ]
     },
     "metadata": {
      "needs_background": "light"
     },
     "output_type": "display_data"
    },
    {
     "data": {
      "image/png": "[encoded data removed]",
      "text/plain": [
       "<Figure size 432x288 with 1 Axes>"
      ]
     },
     "metadata": {
      "needs_background": "light"
     },
     "output_type": "display_data"
    }
   ],
   "source": [
    "chart1, ax1 = plt.subplots()\n",
    "chart2, ax2 = plt.subplots()\n",
    "chart3, ax3 = plt.subplots()\n",
    "chart4, ax4 = plt.subplots()\n",
    "ax3.set_title(\"Autocorrelation plot\")\n",
    "ax4.set_title(\"Q-Q plot\")\n",
    "\n",
    "x = sales['YEAR BUILT'].astype(int)\n",
    "\n",
    "sns.regplot(x=x, y=model.resid, lowess=True, line_kws = {'color': 'black'}, scatter_kws = {'s' : 0.5},ax=ax1)\n",
    "sns.regplot(x=x, y=abs(model.resid), lowess=True, line_kws = {'color': 'black'}, scatter_kws = {'s' : 0.5},ax=ax2)\n",
    "ax3.acorr(model.resid)\n",
    "sm.qqplot(model.resid, line=\"r\", ax = ax4)\n",
    "\n"
   ]
  },
  {
   "cell_type": "markdown",
   "id": "cba045eb",
   "metadata": {},
   "source": [
    "### AIRBNB: neighborhood coef on nightly price"
   ]
  },
  {
   "cell_type": "code",
   "execution_count": 162,
   "id": "50e753f6",
   "metadata": {},
   "outputs": [
    {
     "name": "stderr",
     "output_type": "stream",
     "text": [
      "/Users/jeremyben-meir/opt/anaconda3/lib/python3.8/site-packages/statsmodels/tsa/tsatools.py:142: FutureWarning: In a future version of pandas all arguments of concat except for the argument 'objs' will be keyword-only.\n",
      "  x = pd.concat(x[::order], 1)\n"
     ]
    },
    {
     "data": {
      "text/plain": [
       "bedrooms                  73.139117\n",
       "beds                      14.823381\n",
       "minimum_nights            -0.155623\n",
       "room_type_Private room   -48.084026\n",
       "dtype: float64"
      ]
     },
     "execution_count": 162,
     "metadata": {},
     "output_type": "execute_result"
    }
   ],
   "source": [
    "listings_reviews[\"beds_bedrooms\"] = listings_reviews['beds']*listings_reviews['bedrooms']\n",
    "listings_reviews[\"superhost_profile\"] = listings_reviews['host_is_superhost']*listings_reviews['host_has_profile_pic']\n",
    "listings_reviews[\"superhost_verified\"] = listings_reviews['host_is_superhost']*listings_reviews['host_identity_verified']\n",
    "listings_reviews[\"profile_verified\"] = listings_reviews['host_identity_verified']*listings_reviews['host_has_profile_pic']\n",
    "\n",
    "X = pd.concat([\n",
    "        pd.get_dummies(listings_reviews['neighbourhood_cleansed'], prefix=\"neighborhood\", drop_first=True),\n",
    "        listings_reviews['bedrooms'],\n",
    "        listings_reviews['beds'],\n",
    "        listings_reviews['host_is_superhost'],\n",
    "        listings_reviews['host_has_profile_pic'],\n",
    "        listings_reviews['host_identity_verified'],\n",
    "        listings_reviews['review_scores_rating'],\n",
    "        listings_reviews['minimum_nights'],\n",
    "        pd.get_dummies(listings_reviews['room_type'], prefix=\"room_type\", drop_first=True),\n",
    "    \n",
    "        listings_reviews[\"beds_bedrooms\"],\n",
    "        listings_reviews[\"superhost_profile\"],\n",
    "        listings_reviews[\"superhost_verified\"],\n",
    "        listings_reviews[\"profile_verified\"]\n",
    "    ],axis=1)\n",
    "\n",
    "Y = listings_reviews['price']\n",
    "X = sm.add_constant(X)\n",
    "model = sm.OLS(Y, X).fit()\n",
    "model.summary()\n",
    "\n",
    "neighborhood_params = model.params.loc[[val for val in model.params.index if \"neighborhood_\" not in val]]\n",
    "significant_params = neighborhood_params[neighborhood_params.index.isin(model.pvalues[model.pvalues<=.05].index)]\n",
    "significant_params.sort_values(ascending=False)\n"
   ]
  },
  {
   "cell_type": "markdown",
   "id": "b7e3fe56",
   "metadata": {},
   "source": [
    "# Q2: Get compound sentiment of each review"
   ]
  },
  {
   "cell_type": "code",
   "execution_count": 187,
   "id": "baa5c292",
   "metadata": {},
   "outputs": [
    {
     "name": "stdout",
     "output_type": "stream",
     "text": [
      "Optimization terminated successfully.\n",
      "         Current function value: 0.625983\n",
      "         Iterations 6\n",
      "0.7468533800116697\n",
      "0.8700718586133229\n"
     ]
    },
    {
     "name": "stderr",
     "output_type": "stream",
     "text": [
      "/Users/jeremyben-meir/opt/anaconda3/lib/python3.8/site-packages/statsmodels/tsa/tsatools.py:142: FutureWarning: In a future version of pandas all arguments of concat except for the argument 'objs' will be keyword-only.\n",
      "  x = pd.concat(x[::order], 1)\n"
     ]
    }
   ],
   "source": [
    "from sklearn.metrics import f1_score,recall_score\n",
    "d = gender.Detector()\n",
    "mean_sentiment = listings_reviews[\"sentiment\"].mean()\n",
    "listings_reviews['sentiment_binary'] = listings_reviews['sentiment'].apply(lambda s : 1 if s > mean_sentiment else 0)\n",
    "listings_reviews['sq_beds'] = listings_reviews['beds']**2\n",
    "listings_reviews['sq_bedrooms'] = listings_reviews['bedrooms']**2\n",
    "listings_reviews[\"gender\"] = listings_reviews[\"host_name\"].apply(lambda x : d.get_gender(x))\n",
    "\n",
    "X = pd.concat([\n",
    "    listings_reviews['bedrooms'],\n",
    "    listings_reviews['sq_bedrooms'],\n",
    "    listings_reviews['beds'],\n",
    "    listings_reviews['sq_beds'],\n",
    "    pd.get_dummies(listings_reviews['host_is_superhost'], prefix=\"host_is_superhost\", drop_first=True),\n",
    "    pd.get_dummies(listings_reviews['host_has_profile_pic'], prefix=\"host_has_profile_pic\", drop_first=True),\n",
    "    pd.get_dummies(listings_reviews['host_identity_verified'], prefix=\"host_identity_verified\", drop_first=True),\n",
    "    pd.get_dummies(listings_reviews['room_type'], prefix=\"room_type\", drop_first=True),\n",
    "    pd.get_dummies(listings_reviews['gender'], prefix=\"gender\", drop_first=True),\n",
    "\n",
    "\n",
    "    listings_reviews[\"beds_bedrooms\"],\n",
    "    listings_reviews[\"superhost_profile\"],\n",
    "    listings_reviews[\"superhost_verified\"],\n",
    "    listings_reviews[\"profile_verified\"]\n",
    "],axis=1)\n",
    "\n",
    "Y = listings_reviews['sentiment_binary']\n",
    "X = sm.add_constant(X)\n",
    "\n",
    "X_train, X_test, y_train, y_test = train_test_split(X, Y, test_size=0.33)\n",
    "\n",
    "model = sm.Logit(y_train, X_train).fit()\n",
    "model.summary()\n",
    "\n",
    "predicted = model.predict(X_test)\n",
    "predicted[predicted>.5] = 1\n",
    "predicted[predicted<1] = 0\n",
    "\n",
    "confusion_matrix(y_test, predicted)\n",
    "print(f1_score(y_test, predicted))\n",
    "print(recall_score(y_test, predicted))\n",
    "\n",
    "# significant_params = model.params.loc[model.params.index.isin(model.pvalues[model.pvalues<=.05].index)]\n",
    "# significant_params"
   ]
  },
  {
   "cell_type": "code",
   "execution_count": null,
   "id": "7d5147b4",
   "metadata": {},
   "outputs": [],
   "source": []
  },
  {
   "cell_type": "markdown",
   "id": "d5ec3f04",
   "metadata": {},
   "source": [
    "# Q3: Random Variables"
   ]
  },
  {
   "cell_type": "code",
   "execution_count": 7,
   "id": "7d2b7978",
   "metadata": {},
   "outputs": [
    {
     "name": "stdout",
     "output_type": "stream",
     "text": [
      "count    25147.000000\n",
      "mean         4.612306\n",
      "std          0.783162\n",
      "min          0.000000\n",
      "25%          4.600000\n",
      "50%          4.830000\n",
      "75%          5.000000\n",
      "max          5.000000\n",
      "Name: review_scores_rating, dtype: float64\n",
      "count    25147.000000\n",
      "mean         0.716129\n",
      "std          0.239857\n",
      "min         -0.998800\n",
      "25%          0.646336\n",
      "50%          0.768033\n",
      "75%          0.865819\n",
      "max          0.998700\n",
      "Name: sentiment, dtype: float64\n"
     ]
    }
   ],
   "source": [
    "reviews_summary = listings_reviews[\"review_scores_rating\"].describe()\n",
    "sentiment_summary = listings_reviews[\"sentiment\"].describe()\n",
    "print(reviews_summary)\n",
    "print(sentiment_summary)"
   ]
  },
  {
   "cell_type": "code",
   "execution_count": 8,
   "id": "f17b7564",
   "metadata": {},
   "outputs": [
    {
     "name": "stdout",
     "output_type": "stream",
     "text": [
      "[4.4747646  4.42068748 5.         ... 4.39392548 2.8677662  3.89486851]\n",
      "[0.81125108 0.90486089 1.         ... 0.72381054 0.85060701 0.92677784]\n"
     ]
    }
   ],
   "source": [
    "N=100000\n",
    "random_reviews = np.clip(np.random.normal(reviews_summary[\"mean\"],reviews_summary[\"std\"],N),0,5)\n",
    "random_sentiment = np.clip(np.random.normal(sentiment_summary[\"mean\"],sentiment_summary[\"std\"],N),-1,1)\n",
    "\n",
    "print(random_reviews)\n",
    "print(random_sentiment)\n",
    "\n"
   ]
  },
  {
   "cell_type": "code",
   "execution_count": null,
   "id": "dc3ab683",
   "metadata": {},
   "outputs": [],
   "source": []
  },
  {
   "cell_type": "code",
   "execution_count": null,
   "id": "e02cb438",
   "metadata": {},
   "outputs": [],
   "source": []
  }
 ],
 "metadata": {
  "kernelspec": {
   "display_name": "Python 3 (ipykernel)",
   "language": "python",
   "name": "python3"
  },
  "language_info": {
   "codemirror_mode": {
    "name": "ipython",
    "version": 3
   },
   "file_extension": ".py",
   "mimetype": "text/x-python",
   "name": "python",
   "nbconvert_exporter": "python",
   "pygments_lexer": "ipython3",
   "version": "3.8.8"
  }
 },
 "nbformat": 4,
 "nbformat_minor": 5
}
