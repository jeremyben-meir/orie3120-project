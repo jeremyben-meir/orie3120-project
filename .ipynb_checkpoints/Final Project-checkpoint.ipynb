{
 "cells": [
  {
   "cell_type": "code",
   "execution_count": 1,
   "id": "70da8594",
   "metadata": {},
   "outputs": [
    {
     "name": "stderr",
     "output_type": "stream",
     "text": [
      "/Users/jeremyben-meir/opt/anaconda3/lib/python3.8/site-packages/statsmodels/tsa/base/tsa_model.py:7: FutureWarning: pandas.Int64Index is deprecated and will be removed from pandas in a future version. Use pandas.Index with the appropriate dtype instead.\n",
      "  from pandas import (to_datetime, Int64Index, DatetimeIndex, Period,\n",
      "/Users/jeremyben-meir/opt/anaconda3/lib/python3.8/site-packages/statsmodels/tsa/base/tsa_model.py:7: FutureWarning: pandas.Float64Index is deprecated and will be removed from pandas in a future version. Use pandas.Index with the appropriate dtype instead.\n",
      "  from pandas import (to_datetime, Int64Index, DatetimeIndex, Period,\n"
     ]
    }
   ],
   "source": [
    "import pandas as pd\n",
    "import statsmodels.api as sm\n",
    "import numpy as np"
   ]
  },
  {
   "cell_type": "markdown",
   "id": "b7abb2be",
   "metadata": {},
   "source": [
    "# DATA CLEANSING"
   ]
  },
  {
   "cell_type": "code",
   "execution_count": 32,
   "id": "b589d71a",
   "metadata": {},
   "outputs": [
    {
     "name": "stdout",
     "output_type": "stream",
     "text": [
      "Index(['BOROUGH', 'NEIGHBORHOOD', 'BUILDING CLASS CATEGORY',\n",
      "       'TAX CLASS AT PRESENT', 'BLOCK', 'LOT', 'EASE-MENT',\n",
      "       'BUILDING CLASS AT PRESENT', 'ADDRESS', 'APARTMENT NUMBER', 'ZIP CODE',\n",
      "       'RESIDENTIAL UNITS', 'COMMERCIAL UNITS', 'TOTAL UNITS',\n",
      "       'LAND SQUARE FEET', 'GROSS SQUARE FEET', 'YEAR BUILT',\n",
      "       'TAX CLASS AT TIME OF SALE', 'BUILDING CLASS AT TIME OF SALE',\n",
      "       'SALE PRICE', 'SALE DATE'],\n",
      "      dtype='object')\n"
     ]
    },
    {
     "name": "stderr",
     "output_type": "stream",
     "text": [
      "/var/folders/__/xdj9wy117vzd8wjwwhpp9sph0000gn/T/ipykernel_1388/1376769789.py:20: DtypeWarning: Columns (67) have mixed types. Specify dtype option on import or set low_memory=False.\n",
      "  listings = pd.read_csv(\"listings.csv\")\n",
      "/var/folders/__/xdj9wy117vzd8wjwwhpp9sph0000gn/T/ipykernel_1388/1376769789.py:24: FutureWarning: The default value of regex will change from True to False in a future version. In addition, single character regular expressions will *not* be treated as literal strings when regex=True.\n",
      "  listings[\"price\"] = listings['price'].str.replace(\"$\",\"\").str.replace(\",\",\"\").astype(float)\n"
     ]
    },
    {
     "name": "stdout",
     "output_type": "stream",
     "text": [
      "Index(['id', 'listing_url', 'scrape_id', 'last_scraped', 'name', 'description',\n",
      "       'neighborhood_overview', 'picture_url', 'host_id', 'host_url',\n",
      "       'host_name', 'host_since', 'host_location', 'host_about',\n",
      "       'host_response_time', 'host_response_rate', 'host_acceptance_rate',\n",
      "       'host_is_superhost', 'host_thumbnail_url', 'host_picture_url',\n",
      "       'host_neighbourhood', 'host_listings_count',\n",
      "       'host_total_listings_count', 'host_verifications',\n",
      "       'host_has_profile_pic', 'host_identity_verified', 'neighbourhood',\n",
      "       'neighbourhood_cleansed', 'neighbourhood_group_cleansed', 'latitude',\n",
      "       'longitude', 'property_type', 'room_type', 'accommodates', 'bathrooms',\n",
      "       'bathrooms_text', 'bedrooms', 'beds', 'amenities', 'price',\n",
      "       'minimum_nights', 'maximum_nights', 'minimum_minimum_nights',\n",
      "       'maximum_minimum_nights', 'minimum_maximum_nights',\n",
      "       'maximum_maximum_nights', 'minimum_nights_avg_ntm',\n",
      "       'maximum_nights_avg_ntm', 'calendar_updated', 'has_availability',\n",
      "       'availability_30', 'availability_60', 'availability_90',\n",
      "       'availability_365', 'calendar_last_scraped', 'number_of_reviews',\n",
      "       'number_of_reviews_ltm', 'number_of_reviews_l30d', 'first_review',\n",
      "       'last_review', 'review_scores_rating', 'review_scores_accuracy',\n",
      "       'review_scores_cleanliness', 'review_scores_checkin',\n",
      "       'review_scores_communication', 'review_scores_location',\n",
      "       'review_scores_value', 'license', 'instant_bookable',\n",
      "       'calculated_host_listings_count',\n",
      "       'calculated_host_listings_count_entire_homes',\n",
      "       'calculated_host_listings_count_private_rooms',\n",
      "       'calculated_host_listings_count_shared_rooms', 'reviews_per_month'],\n",
      "      dtype='object')\n",
      "246\n",
      "220\n"
     ]
    }
   ],
   "source": [
    "### SALES CSV #############################\n",
    "\n",
    "sales = pd.read_csv(\"NYC_Citywide_Rolling_Calendar_Sales.csv\")\n",
    "print(sales.columns)\n",
    "\n",
    "sales = sales[~sales['NEIGHBORHOOD'].isna()]\n",
    "sales = sales[~sales['TOTAL UNITS'].isna()]\n",
    "sales = sales[~sales['LAND SQUARE FEET'].isna()]\n",
    "sales = sales[~sales['GROSS SQUARE FEET'].isna()]\n",
    "sales = sales[~sales['YEAR BUILT'].isna()]\n",
    "sales = sales[~sales['TAX CLASS AT TIME OF SALE'].isna()]\n",
    "sales = sales[~sales['BUILDING CLASS AT TIME OF SALE'].isna()]\n",
    "sales['SALE PRICE'] = sales['SALE PRICE'].str.replace(\",\",\"\").astype(int)\n",
    "sales = sales[~((sales['SALE PRICE'].isna())|(sales['SALE PRICE']<=0))]\n",
    "sales[\"PRICE/UNIT\"] = sales['SALE PRICE']/sales['TOTAL UNITS']\n",
    "sales['NEIGHBORHOOD'] = sales['NEIGHBORHOOD'].apply(lambda n: n.replace(\" (79-96)\",\"\").replace(\" (59-79)\",\"\"))\n",
    "\n",
    "### LISTINGS CSV ##########################\n",
    "\n",
    "listings = pd.read_csv(\"listings.csv\")\n",
    "print(listings.columns)\n",
    "\n",
    "listings['neighbourhood_cleansed'] = listings['neighbourhood_cleansed'].str.upper().str.replace(\" DISTRICT\",\"\")\n",
    "listings[\"price\"] = listings['price'].str.replace(\"$\",\"\").str.replace(\",\",\"\").astype(float)\n",
    "\n",
    "listings = listings[~listings['neighbourhood_cleansed'].isna()]\n",
    "listings = listings[~listings['number_of_reviews'].isna()]\n",
    "listings = listings[~listings['bedrooms'].isna()]\n",
    "listings = listings[~listings['beds'].isna()]\n",
    "listings = listings[~listings['host_identity_verified'].isna()]\n",
    "listings = listings[~listings['host_has_profile_pic'].isna()]\n",
    "listings = listings[~listings['room_type'].isna()]\n",
    "listings = listings[~listings['review_scores_rating'].isna()]\n",
    "listings = listings[~listings['minimum_nights'].isna()]\n",
    "listings = listings[~listings['host_is_superhost'].isna()]\n",
    "listings = listings[listings['price']>0]\n",
    "\n",
    "print(sales['NEIGHBORHOOD'].nunique())\n",
    "print(listings['neighbourhood_cleansed'].nunique())\n"
   ]
  },
  {
   "cell_type": "markdown",
   "id": "215b9db1",
   "metadata": {},
   "source": [
    "# Q1"
   ]
  },
  {
   "cell_type": "markdown",
   "id": "12e0fb69",
   "metadata": {},
   "source": [
    "### OPENDATA: neighborhood coef on sale price"
   ]
  },
  {
   "cell_type": "code",
   "execution_count": 3,
   "id": "9041e90c",
   "metadata": {},
   "outputs": [
    {
     "name": "stderr",
     "output_type": "stream",
     "text": [
      "/Users/jeremyben-meir/opt/anaconda3/lib/python3.8/site-packages/statsmodels/tsa/tsatools.py:142: FutureWarning: In a future version of pandas all arguments of concat except for the argument 'objs' will be keyword-only.\n",
      "  x = pd.concat(x[::order], 1)\n"
     ]
    },
    {
     "data": {
      "text/plain": [
       "neighborhood_DOWNTOWN-FULTON MALL        -3.163155e+07\n",
       "neighborhood_JAVITS CENTER               -1.698351e+07\n",
       "neighborhood_FLATIRON                    -1.651043e+07\n",
       "neighborhood_EAST VILLAGE                 7.524639e+06\n",
       "neighborhood_HUNTS POINT                  8.567422e+06\n",
       "neighborhood_WILLIAMSBURG-NORTH           8.661093e+06\n",
       "neighborhood_LOWER EAST SIDE              8.770358e+06\n",
       "neighborhood_CLINTON                      9.242175e+06\n",
       "neighborhood_TRIBECA                      9.265173e+06\n",
       "neighborhood_GREENWICH VILLAGE-WEST       9.900629e+06\n",
       "neighborhood_DOWNTOWN-METROTECH           1.003332e+07\n",
       "neighborhood_CHELSEA                      1.005147e+07\n",
       "neighborhood_UPPER WEST SIDE              1.069827e+07\n",
       "neighborhood_BROOKLYN HEIGHTS             1.310206e+07\n",
       "neighborhood_GREENWICH VILLAGE-CENTRAL    1.471068e+07\n",
       "neighborhood_FASHION                      1.484955e+07\n",
       "neighborhood_UPPER EAST SIDE              1.534424e+07\n",
       "neighborhood_FINANCIAL                    2.412859e+07\n",
       "neighborhood_SOHO                         2.439255e+07\n",
       "neighborhood_MIDTOWN WEST                 2.549634e+07\n",
       "neighborhood_MORNINGSIDE HEIGHTS          3.204254e+07\n",
       "neighborhood_DOWNTOWN-FULTON FERRY        3.527361e+07\n",
       "dtype: float64"
      ]
     },
     "execution_count": 3,
     "metadata": {},
     "output_type": "execute_result"
    }
   ],
   "source": [
    "X = pd.concat([\n",
    "        pd.get_dummies(sales['NEIGHBORHOOD'], prefix=\"neighborhood\", drop_first=True),\n",
    "        sales['TOTAL UNITS'].astype(int),\n",
    "        sales['LAND SQUARE FEET'].str.replace(\",\",\"\").astype(int),\n",
    "        sales['GROSS SQUARE FEET'].astype(int),\n",
    "        sales['YEAR BUILT'].astype(int),\n",
    "        pd.get_dummies(sales['TAX CLASS AT TIME OF SALE'], prefix=\"taxclass\", drop_first=True),\n",
    "        pd.get_dummies(sales['BUILDING CLASS AT TIME OF SALE'], prefix=\"bldgclass\", drop_first=True),\n",
    "    ],axis=1)\n",
    "\n",
    "Y = sales['SALE PRICE']\n",
    "X = sm.add_constant(X)\n",
    "model = sm.OLS(Y, X).fit()\n",
    "model.summary()\n",
    "\n",
    "neighborhood_params = model.params.loc[[val for val in model.params.index if \"neighborhood_\" in val]]\n",
    "significant_params = neighborhood_params[neighborhood_params.index.isin(model.pvalues[model.pvalues<=.05].index)]\n",
    "significant_params.sort_values()\n",
    "\n"
   ]
  },
  {
   "cell_type": "markdown",
   "id": "cba045eb",
   "metadata": {},
   "source": [
    "### AIRBNB: neighborhood coef on nightly price"
   ]
  },
  {
   "cell_type": "code",
   "execution_count": 5,
   "id": "50e753f6",
   "metadata": {},
   "outputs": [
    {
     "name": "stderr",
     "output_type": "stream",
     "text": [
      "/var/folders/__/xdj9wy117vzd8wjwwhpp9sph0000gn/T/ipykernel_1388/1629374173.py:2: FutureWarning: The default value of regex will change from True to False in a future version. In addition, single character regular expressions will *not* be treated as literal strings when regex=True.\n",
      "  listings[\"price\"] = listings['price'].str.replace(\"$\",\"\").str.replace(\",\",\"\").astype(float)\n",
      "/Users/jeremyben-meir/opt/anaconda3/lib/python3.8/site-packages/statsmodels/tsa/tsatools.py:142: FutureWarning: In a future version of pandas all arguments of concat except for the argument 'objs' will be keyword-only.\n",
      "  x = pd.concat(x[::order], 1)\n"
     ]
    },
    {
     "data": {
      "text/plain": [
       "neighborhood_TRIBECA              319.201512\n",
       "neighborhood_FLATIRON             317.434750\n",
       "neighborhood_JAMAICA ESTATES      306.806998\n",
       "neighborhood_MIDTOWN              238.171332\n",
       "neighborhood_SOHO                 211.993228\n",
       "neighborhood_THEATER              183.252825\n",
       "neighborhood_WEST VILLAGE         180.626892\n",
       "neighborhood_MURRAY HILL          177.864433\n",
       "neighborhood_GREENWICH VILLAGE    158.162670\n",
       "neighborhood_CHELSEA              152.023399\n",
       "neighborhood_FINANCIAL            127.144620\n",
       "neighborhood_EAST VILLAGE         116.708387\n",
       "neighborhood_HELL'S KITCHEN       114.932977\n",
       "neighborhood_UPPER WEST SIDE      107.829249\n",
       "neighborhood_GRAMERCY             104.208515\n",
       "neighborhood_NOLITA                98.565600\n",
       "neighborhood_LOWER EAST SIDE       97.259569\n",
       "neighborhood_UPPER EAST SIDE       92.555050\n",
       "dtype: float64"
      ]
     },
     "execution_count": 5,
     "metadata": {},
     "output_type": "execute_result"
    }
   ],
   "source": [
    "X = pd.concat([\n",
    "        pd.get_dummies(listings['neighbourhood_cleansed'], prefix=\"neighborhood\", drop_first=True),\n",
    "        listings['number_of_reviews'],\n",
    "        listings['bedrooms'],\n",
    "        listings['beds'],\n",
    "        pd.get_dummies(listings['host_is_superhost'], prefix=\"host_is_superhost\", drop_first=True),\n",
    "        pd.get_dummies(listings['host_has_profile_pic'], prefix=\"host_has_profile_pic\", drop_first=True),\n",
    "        pd.get_dummies(listings['host_identity_verified'], prefix=\"host_identity_verified\", drop_first=True),\n",
    "        pd.get_dummies(listings['room_type'], prefix=\"room_type\", drop_first=True),\n",
    "        listings['review_scores_rating'],\n",
    "        listings['minimum_nights'],\n",
    "    ],axis=1)\n",
    "\n",
    "Y = listings['price']\n",
    "X = sm.add_constant(X)\n",
    "model = sm.OLS(Y, X).fit()\n",
    "model.summary()\n",
    "\n",
    "neighborhood_params = model.params.loc[[val for val in model.params.index if \"neighborhood_\" in val]]\n",
    "significant_params = neighborhood_params[neighborhood_params.index.isin(model.pvalues[model.pvalues<=.05].index)]\n",
    "significant_params.sort_values(ascending=False)\n"
   ]
  },
  {
   "cell_type": "code",
   "execution_count": 6,
   "id": "3ba77022",
   "metadata": {},
   "outputs": [],
   "source": [
    "# n = \"FLATIRON\"\n",
    "# print(sales.loc[sales['NEIGHBORHOOD']==n,\"PRICE/UNIT\"])\n",
    "# print(sales.loc[sales['NEIGHBORHOOD']==n,\"SALE PRICE\"])\n",
    "# print(sales.loc[sales['NEIGHBORHOOD']==n,\"TOTAL UNITS\"])\n",
    "# expected_price = sales.loc[sales['NEIGHBORHOOD']==n,\"PRICE/UNIT\"].mean()\n",
    "# expected_return = listings.loc[listings['neighbourhood_cleansed']==n,\"price\"].mean()*365\n",
    "# print(expected_price)\n",
    "# expected_return/expected_price"
   ]
  },
  {
   "cell_type": "markdown",
   "id": "b7e3fe56",
   "metadata": {},
   "source": [
    "# Q2: Get compound sentiment of each review"
   ]
  },
  {
   "cell_type": "code",
   "execution_count": 7,
   "id": "0d0ac1cc",
   "metadata": {},
   "outputs": [
    {
     "name": "stderr",
     "output_type": "stream",
     "text": [
      "[nltk_data] Downloading package vader_lexicon to /Users/jeremyben-\n",
      "[nltk_data]     meir/nltk_data...\n",
      "[nltk_data]   Package vader_lexicon is already up-to-date!\n"
     ]
    }
   ],
   "source": [
    "import nltk\n",
    "from nltk.sentiment import SentimentIntensityAnalyzer\n",
    "nltk.download('vader_lexicon')\n",
    "sia = SentimentIntensityAnalyzer()\n",
    "reviews = pd.read_csv(\"reviews.csv\")\n",
    "reviews = reviews[~reviews[\"comments\"].isna()]\n"
   ]
  },
  {
   "cell_type": "code",
   "execution_count": 8,
   "id": "5e2b7a5c",
   "metadata": {},
   "outputs": [
    {
     "name": "stdout",
     "output_type": "stream",
     "text": [
      "927923\n",
      "100000\n",
      "200000\n",
      "300000\n",
      "400000\n",
      "500000\n",
      "600000\n",
      "700000\n",
      "800000\n",
      "900000\n"
     ]
    }
   ],
   "source": [
    "#add sentiment to reviews\n",
    "\n",
    "global count\n",
    "count = 0\n",
    "print(len(reviews[\"comments\"]))\n",
    "\n",
    "def add_score(comment):\n",
    "    try:\n",
    "        global count\n",
    "        count+=1\n",
    "        if count%100000 == 0:\n",
    "            print(count)\n",
    "        return sia.polarity_scores(comment)[\"compound\"]\n",
    "    except:\n",
    "        print(comment)\n",
    "\n",
    "reviews[\"sentiment\"] = reviews[\"comments\"].apply(lambda comment: add_score(comment))\n"
   ]
  },
  {
   "cell_type": "code",
   "execution_count": 9,
   "id": "9fb0fa24",
   "metadata": {},
   "outputs": [],
   "source": [
    "# merge average sentiment into reviews\n",
    "\n",
    "sentiment_df = reviews.groupby(\"listing_id\").agg({\"sentiment\":\"mean\"})\n",
    "listings_reviews = listings.merge(sentiment_df, how=\"inner\", left_on='id', right_on='listing_id')\n"
   ]
  },
  {
   "cell_type": "code",
   "execution_count": 33,
   "id": "22212dd7",
   "metadata": {},
   "outputs": [
    {
     "name": "stdout",
     "output_type": "stream",
     "text": [
      "Optimization terminated successfully.\n",
      "         Current function value: 0.627441\n",
      "         Iterations 7\n"
     ]
    },
    {
     "name": "stderr",
     "output_type": "stream",
     "text": [
      "/Users/jeremyben-meir/opt/anaconda3/lib/python3.8/site-packages/statsmodels/tsa/tsatools.py:142: FutureWarning: In a future version of pandas all arguments of concat except for the argument 'objs' will be keyword-only.\n",
      "  x = pd.concat(x[::order], 1)\n"
     ]
    },
    {
     "data": {
      "text/html": [
       "<table class=\"simpletable\">\n",
       "<caption>Logit Regression Results</caption>\n",
       "<tr>\n",
       "  <th>Dep. Variable:</th>   <td>sentiment_binary</td> <th>  No. Observations:  </th>  <td> 25147</td> \n",
       "</tr>\n",
       "<tr>\n",
       "  <th>Model:</th>                 <td>Logit</td>      <th>  Df Residuals:      </th>  <td> 25136</td> \n",
       "</tr>\n",
       "<tr>\n",
       "  <th>Method:</th>                 <td>MLE</td>       <th>  Df Model:          </th>  <td>    10</td> \n",
       "</tr>\n",
       "<tr>\n",
       "  <th>Date:</th>            <td>Sun, 15 May 2022</td> <th>  Pseudo R-squ.:     </th>  <td>0.05256</td>\n",
       "</tr>\n",
       "<tr>\n",
       "  <th>Time:</th>                <td>13:31:23</td>     <th>  Log-Likelihood:    </th> <td> -15778.</td>\n",
       "</tr>\n",
       "<tr>\n",
       "  <th>converged:</th>             <td>True</td>       <th>  LL-Null:           </th> <td> -16654.</td>\n",
       "</tr>\n",
       "<tr>\n",
       "  <th>Covariance Type:</th>     <td>nonrobust</td>    <th>  LLR p-value:       </th>  <td> 0.000</td> \n",
       "</tr>\n",
       "</table>\n",
       "<table class=\"simpletable\">\n",
       "<tr>\n",
       "              <td></td>                <th>coef</th>     <th>std err</th>      <th>z</th>      <th>P>|z|</th>  <th>[0.025</th>    <th>0.975]</th>  \n",
       "</tr>\n",
       "<tr>\n",
       "  <th>const</th>                    <td>    0.5993</td> <td>    0.170</td> <td>    3.526</td> <td> 0.000</td> <td>    0.266</td> <td>    0.933</td>\n",
       "</tr>\n",
       "<tr>\n",
       "  <th>bedrooms</th>                 <td>    0.0935</td> <td>    0.030</td> <td>    3.122</td> <td> 0.002</td> <td>    0.035</td> <td>    0.152</td>\n",
       "</tr>\n",
       "<tr>\n",
       "  <th>beds</th>                     <td>   -0.3037</td> <td>    0.033</td> <td>   -9.176</td> <td> 0.000</td> <td>   -0.369</td> <td>   -0.239</td>\n",
       "</tr>\n",
       "<tr>\n",
       "  <th>sq_beds</th>                  <td>    0.0174</td> <td>    0.004</td> <td>    4.490</td> <td> 0.000</td> <td>    0.010</td> <td>    0.025</td>\n",
       "</tr>\n",
       "<tr>\n",
       "  <th>host_is_superhost_t</th>      <td>    0.9239</td> <td>    0.033</td> <td>   27.617</td> <td> 0.000</td> <td>    0.858</td> <td>    0.990</td>\n",
       "</tr>\n",
       "<tr>\n",
       "  <th>host_has_profile_pic_t</th>   <td>    0.3492</td> <td>    0.161</td> <td>    2.165</td> <td> 0.030</td> <td>    0.033</td> <td>    0.665</td>\n",
       "</tr>\n",
       "<tr>\n",
       "  <th>host_identity_verified_t</th> <td>    0.1296</td> <td>    0.036</td> <td>    3.566</td> <td> 0.000</td> <td>    0.058</td> <td>    0.201</td>\n",
       "</tr>\n",
       "<tr>\n",
       "  <th>room_type_Hotel room</th>     <td>   -1.2098</td> <td>    0.199</td> <td>   -6.082</td> <td> 0.000</td> <td>   -1.600</td> <td>   -0.820</td>\n",
       "</tr>\n",
       "<tr>\n",
       "  <th>room_type_Private room</th>   <td>   -0.7102</td> <td>    0.031</td> <td>  -22.776</td> <td> 0.000</td> <td>   -0.771</td> <td>   -0.649</td>\n",
       "</tr>\n",
       "<tr>\n",
       "  <th>room_type_Shared room</th>    <td>   -1.0607</td> <td>    0.109</td> <td>   -9.754</td> <td> 0.000</td> <td>   -1.274</td> <td>   -0.848</td>\n",
       "</tr>\n",
       "<tr>\n",
       "  <th>instant_bookable_t</th>       <td>   -0.4217</td> <td>    0.031</td> <td>  -13.448</td> <td> 0.000</td> <td>   -0.483</td> <td>   -0.360</td>\n",
       "</tr>\n",
       "</table>"
      ],
      "text/plain": [
       "<class 'statsmodels.iolib.summary.Summary'>\n",
       "\"\"\"\n",
       "                           Logit Regression Results                           \n",
       "==============================================================================\n",
       "Dep. Variable:       sentiment_binary   No. Observations:                25147\n",
       "Model:                          Logit   Df Residuals:                    25136\n",
       "Method:                           MLE   Df Model:                           10\n",
       "Date:                Sun, 15 May 2022   Pseudo R-squ.:                 0.05256\n",
       "Time:                        13:31:23   Log-Likelihood:                -15778.\n",
       "converged:                       True   LL-Null:                       -16654.\n",
       "Covariance Type:            nonrobust   LLR p-value:                     0.000\n",
       "============================================================================================\n",
       "                               coef    std err          z      P>|z|      [0.025      0.975]\n",
       "--------------------------------------------------------------------------------------------\n",
       "const                        0.5993      0.170      3.526      0.000       0.266       0.933\n",
       "bedrooms                     0.0935      0.030      3.122      0.002       0.035       0.152\n",
       "beds                        -0.3037      0.033     -9.176      0.000      -0.369      -0.239\n",
       "sq_beds                      0.0174      0.004      4.490      0.000       0.010       0.025\n",
       "host_is_superhost_t          0.9239      0.033     27.617      0.000       0.858       0.990\n",
       "host_has_profile_pic_t       0.3492      0.161      2.165      0.030       0.033       0.665\n",
       "host_identity_verified_t     0.1296      0.036      3.566      0.000       0.058       0.201\n",
       "room_type_Hotel room        -1.2098      0.199     -6.082      0.000      -1.600      -0.820\n",
       "room_type_Private room      -0.7102      0.031    -22.776      0.000      -0.771      -0.649\n",
       "room_type_Shared room       -1.0607      0.109     -9.754      0.000      -1.274      -0.848\n",
       "instant_bookable_t          -0.4217      0.031    -13.448      0.000      -0.483      -0.360\n",
       "============================================================================================\n",
       "\"\"\""
      ]
     },
     "execution_count": 33,
     "metadata": {},
     "output_type": "execute_result"
    }
   ],
   "source": [
    "mean_sentiment = listings_reviews[\"sentiment\"].mean()\n",
    "listings_reviews['sentiment_binary'] = listings_reviews['sentiment'].apply(lambda s : 1 if s > mean_sentiment else 0)\n",
    "listings_reviews['sq_beds'] = listings_reviews['beds']**2\n",
    "X = pd.concat([\n",
    "        listings_reviews['bedrooms'],\n",
    "        listings_reviews['beds'],\n",
    "        listings_reviews['sq_beds'],\n",
    "        pd.get_dummies(listings_reviews['host_is_superhost'], prefix=\"host_is_superhost\", drop_first=True),\n",
    "        pd.get_dummies(listings_reviews['host_has_profile_pic'], prefix=\"host_has_profile_pic\", drop_first=True),\n",
    "        pd.get_dummies(listings_reviews['host_identity_verified'], prefix=\"host_identity_verified\", drop_first=True),\n",
    "        pd.get_dummies(listings_reviews['room_type'], prefix=\"room_type\", drop_first=True),\n",
    "        pd.get_dummies(listings_reviews['instant_bookable'], prefix=\"instant_bookable\", drop_first=True),\n",
    "    ],axis=1)\n",
    "\n",
    "Y = listings_reviews['sentiment_binary']\n",
    "X = sm.add_constant(X)\n",
    "model = sm.Logit(Y, X).fit()\n",
    "model.summary()\n"
   ]
  },
  {
   "cell_type": "markdown",
   "id": "9ba8810d",
   "metadata": {},
   "source": [
    "# Q3: Random Variables"
   ]
  },
  {
   "cell_type": "code",
   "execution_count": 10,
   "id": "7d2b7978",
   "metadata": {},
   "outputs": [
    {
     "name": "stdout",
     "output_type": "stream",
     "text": [
      "count    25147.000000\n",
      "mean         4.612306\n",
      "std          0.783162\n",
      "min          0.000000\n",
      "25%          4.600000\n",
      "50%          4.830000\n",
      "75%          5.000000\n",
      "max          5.000000\n",
      "Name: review_scores_rating, dtype: float64\n",
      "count    25147.000000\n",
      "mean         0.716129\n",
      "std          0.239857\n",
      "min         -0.998800\n",
      "25%          0.646336\n",
      "50%          0.768033\n",
      "75%          0.865819\n",
      "max          0.998700\n",
      "Name: sentiment, dtype: float64\n"
     ]
    }
   ],
   "source": [
    "reviews_summary = listings_reviews[\"review_scores_rating\"].describe()\n",
    "sentiment_summary = listings_reviews[\"sentiment\"].describe()\n",
    "print(reviews_summary)\n",
    "print(sentiment_summary)"
   ]
  },
  {
   "cell_type": "code",
   "execution_count": 11,
   "id": "f17b7564",
   "metadata": {},
   "outputs": [
    {
     "name": "stdout",
     "output_type": "stream",
     "text": [
      "[4.78457976 3.93891325 5.         ... 5.         4.37851809 4.81108022]\n",
      "[1.         0.6041342  0.8737879  ... 0.76189922 0.42132609 0.79086718]\n"
     ]
    }
   ],
   "source": [
    "N=100000\n",
    "random_reviews = np.clip(np.random.normal(reviews_summary[\"mean\"],reviews_summary[\"std\"],N),0,5)\n",
    "random_sentiment = np.clip(np.random.normal(sentiment_summary[\"mean\"],sentiment_summary[\"std\"],N),-1,1)\n",
    "\n",
    "print(random_reviews)\n",
    "print(random_sentiment)\n",
    "\n"
   ]
  },
  {
   "cell_type": "code",
   "execution_count": null,
   "id": "dc3ab683",
   "metadata": {},
   "outputs": [],
   "source": []
  },
  {
   "cell_type": "code",
   "execution_count": null,
   "id": "e02cb438",
   "metadata": {},
   "outputs": [],
   "source": []
  }
 ],
 "metadata": {
  "kernelspec": {
   "display_name": "Python 3 (ipykernel)",
   "language": "python",
   "name": "python3"
  },
  "language_info": {
   "codemirror_mode": {
    "name": "ipython",
    "version": 3
   },
   "file_extension": ".py",
   "mimetype": "text/x-python",
   "name": "python",
   "nbconvert_exporter": "python",
   "pygments_lexer": "ipython3",
   "version": "3.8.8"
  }
 },
 "nbformat": 4,
 "nbformat_minor": 5
}
