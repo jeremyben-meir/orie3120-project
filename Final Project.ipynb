{
 "cells": [
  {
   "cell_type": "code",
   "execution_count": 1,
   "id": "70da8594",
   "metadata": {},
   "outputs": [
    {
     "name": "stderr",
     "output_type": "stream",
     "text": [
      "/Users/jeremyben-meir/opt/anaconda3/lib/python3.8/site-packages/statsmodels/tsa/base/tsa_model.py:7: FutureWarning: pandas.Int64Index is deprecated and will be removed from pandas in a future version. Use pandas.Index with the appropriate dtype instead.\n",
      "  from pandas import (to_datetime, Int64Index, DatetimeIndex, Period,\n",
      "/Users/jeremyben-meir/opt/anaconda3/lib/python3.8/site-packages/statsmodels/tsa/base/tsa_model.py:7: FutureWarning: pandas.Float64Index is deprecated and will be removed from pandas in a future version. Use pandas.Index with the appropriate dtype instead.\n",
      "  from pandas import (to_datetime, Int64Index, DatetimeIndex, Period,\n"
     ]
    }
   ],
   "source": [
    "import pandas as pd\n",
    "import statsmodels.api as sm\n",
    "import numpy as np"
   ]
  },
  {
   "cell_type": "markdown",
   "id": "c8fb8645",
   "metadata": {},
   "source": [
    "# OPENDATA: neighborhood coef on sale price"
   ]
  },
  {
   "cell_type": "code",
   "execution_count": 33,
   "id": "ed855983",
   "metadata": {},
   "outputs": [
    {
     "data": {
      "text/plain": [
       "Index(['BOROUGH', 'NEIGHBORHOOD', 'BUILDING CLASS CATEGORY',\n",
       "       'TAX CLASS AT PRESENT', 'BLOCK', 'LOT', 'EASE-MENT',\n",
       "       'BUILDING CLASS AT PRESENT', 'ADDRESS', 'APARTMENT NUMBER', 'ZIP CODE',\n",
       "       'RESIDENTIAL UNITS', 'COMMERCIAL UNITS', 'TOTAL UNITS',\n",
       "       'LAND SQUARE FEET', 'GROSS SQUARE FEET', 'YEAR BUILT',\n",
       "       'TAX CLASS AT TIME OF SALE', 'BUILDING CLASS AT TIME OF SALE',\n",
       "       'SALE PRICE', 'SALE DATE'],\n",
       "      dtype='object')"
      ]
     },
     "execution_count": 33,
     "metadata": {},
     "output_type": "execute_result"
    }
   ],
   "source": [
    "sales = pd.read_csv(\"NYC_Citywide_Rolling_Calendar_Sales.csv\")\n",
    "sales.columns"
   ]
  },
  {
   "cell_type": "code",
   "execution_count": 34,
   "id": "9041e90c",
   "metadata": {},
   "outputs": [
    {
     "name": "stderr",
     "output_type": "stream",
     "text": [
      "/Users/jeremyben-meir/opt/anaconda3/lib/python3.8/site-packages/statsmodels/tsa/tsatools.py:142: FutureWarning: In a future version of pandas all arguments of concat except for the argument 'objs' will be keyword-only.\n",
      "  x = pd.concat(x[::order], 1)\n"
     ]
    },
    {
     "data": {
      "text/plain": [
       "neighborhood_DOWNTOWN-FULTON MALL        -3.163155e+07\n",
       "neighborhood_JAVITS CENTER               -1.698351e+07\n",
       "neighborhood_FLATIRON                    -1.651043e+07\n",
       "neighborhood_EAST VILLAGE                 7.524639e+06\n",
       "neighborhood_HUNTS POINT                  8.567422e+06\n",
       "neighborhood_WILLIAMSBURG-NORTH           8.661093e+06\n",
       "neighborhood_LOWER EAST SIDE              8.770358e+06\n",
       "neighborhood_CLINTON                      9.242175e+06\n",
       "neighborhood_TRIBECA                      9.265173e+06\n",
       "neighborhood_GREENWICH VILLAGE-WEST       9.900629e+06\n",
       "neighborhood_DOWNTOWN-METROTECH           1.003332e+07\n",
       "neighborhood_CHELSEA                      1.005147e+07\n",
       "neighborhood_UPPER WEST SIDE              1.069827e+07\n",
       "neighborhood_BROOKLYN HEIGHTS             1.310206e+07\n",
       "neighborhood_GREENWICH VILLAGE-CENTRAL    1.471068e+07\n",
       "neighborhood_FASHION                      1.484955e+07\n",
       "neighborhood_UPPER EAST SIDE              1.534424e+07\n",
       "neighborhood_FINANCIAL                    2.412859e+07\n",
       "neighborhood_SOHO                         2.439255e+07\n",
       "neighborhood_MIDTOWN WEST                 2.549634e+07\n",
       "neighborhood_MORNINGSIDE HEIGHTS          3.204254e+07\n",
       "neighborhood_DOWNTOWN-FULTON FERRY        3.527361e+07\n",
       "dtype: float64"
      ]
     },
     "execution_count": 34,
     "metadata": {},
     "output_type": "execute_result"
    }
   ],
   "source": [
    "sales['NEIGHBORHOOD'] = sales['NEIGHBORHOOD'].apply(lambda n: n.replace(\" (79-96)\",\"\").replace(\" (59-79)\",\"\"))\n",
    "\n",
    "sales = sales[~sales['NEIGHBORHOOD'].isna()]\n",
    "sales = sales[~sales['TOTAL UNITS'].isna()]\n",
    "sales = sales[~sales['LAND SQUARE FEET'].isna()]\n",
    "sales = sales[~sales['GROSS SQUARE FEET'].isna()]\n",
    "sales = sales[~sales['YEAR BUILT'].isna()]\n",
    "sales = sales[~sales['TAX CLASS AT TIME OF SALE'].isna()]\n",
    "sales = sales[~sales['BUILDING CLASS AT TIME OF SALE'].isna()]\n",
    "sales['SALE PRICE'] = sales['SALE PRICE'].str.replace(\",\",\"\").astype(int)\n",
    "sales = sales[~((sales['SALE PRICE'].isna())|(sales['SALE PRICE']<=0))]\n",
    "sales[\"PRICE/UNIT\"] = sales['SALE PRICE']/sales['TOTAL UNITS']\n",
    "\n",
    "X = pd.concat([\n",
    "        pd.get_dummies(sales['NEIGHBORHOOD'], prefix=\"neighborhood\", drop_first=True),\n",
    "        sales['TOTAL UNITS'].astype(int),\n",
    "        sales['LAND SQUARE FEET'].str.replace(\",\",\"\").astype(int),\n",
    "        sales['GROSS SQUARE FEET'].astype(int),\n",
    "        sales['YEAR BUILT'].astype(int),\n",
    "        pd.get_dummies(sales['TAX CLASS AT TIME OF SALE'], prefix=\"taxclass\", drop_first=True),\n",
    "        pd.get_dummies(sales['BUILDING CLASS AT TIME OF SALE'], prefix=\"bldgclass\", drop_first=True),\n",
    "    ],axis=1)\n",
    "\n",
    "Y = sales['SALE PRICE']\n",
    "X = sm.add_constant(X)\n",
    "model = sm.OLS(Y, X).fit()\n",
    "model.summary()\n",
    "\n",
    "neighborhood_params = model.params.loc[[val for val in model.params.index if \"neighborhood_\" in val]]\n",
    "significant_params = neighborhood_params[neighborhood_params.index.isin(model.pvalues[model.pvalues<=.05].index)]\n",
    "# neighborhood_params = significant_params.loc[[model.params.index]]\n",
    "significant_params.sort_values()\n",
    "\n"
   ]
  },
  {
   "cell_type": "markdown",
   "id": "ca189ca5",
   "metadata": {},
   "source": [
    "# AIRBNB: neighborhood coef on nightly price"
   ]
  },
  {
   "cell_type": "code",
   "execution_count": 35,
   "id": "ebdb30d2",
   "metadata": {},
   "outputs": [
    {
     "name": "stderr",
     "output_type": "stream",
     "text": [
      "/var/folders/__/xdj9wy117vzd8wjwwhpp9sph0000gn/T/ipykernel_19794/3649005725.py:1: DtypeWarning: Columns (67) have mixed types. Specify dtype option on import or set low_memory=False.\n",
      "  listings = pd.read_csv(\"listings.csv\")\n"
     ]
    },
    {
     "data": {
      "text/plain": [
       "Index(['id', 'listing_url', 'scrape_id', 'last_scraped', 'name', 'description',\n",
       "       'neighborhood_overview', 'picture_url', 'host_id', 'host_url',\n",
       "       'host_name', 'host_since', 'host_location', 'host_about',\n",
       "       'host_response_time', 'host_response_rate', 'host_acceptance_rate',\n",
       "       'host_is_superhost', 'host_thumbnail_url', 'host_picture_url',\n",
       "       'host_neighbourhood', 'host_listings_count',\n",
       "       'host_total_listings_count', 'host_verifications',\n",
       "       'host_has_profile_pic', 'host_identity_verified', 'neighbourhood',\n",
       "       'neighbourhood_cleansed', 'neighbourhood_group_cleansed', 'latitude',\n",
       "       'longitude', 'property_type', 'room_type', 'accommodates', 'bathrooms',\n",
       "       'bathrooms_text', 'bedrooms', 'beds', 'amenities', 'price',\n",
       "       'minimum_nights', 'maximum_nights', 'minimum_minimum_nights',\n",
       "       'maximum_minimum_nights', 'minimum_maximum_nights',\n",
       "       'maximum_maximum_nights', 'minimum_nights_avg_ntm',\n",
       "       'maximum_nights_avg_ntm', 'calendar_updated', 'has_availability',\n",
       "       'availability_30', 'availability_60', 'availability_90',\n",
       "       'availability_365', 'calendar_last_scraped', 'number_of_reviews',\n",
       "       'number_of_reviews_ltm', 'number_of_reviews_l30d', 'first_review',\n",
       "       'last_review', 'review_scores_rating', 'review_scores_accuracy',\n",
       "       'review_scores_cleanliness', 'review_scores_checkin',\n",
       "       'review_scores_communication', 'review_scores_location',\n",
       "       'review_scores_value', 'license', 'instant_bookable',\n",
       "       'calculated_host_listings_count',\n",
       "       'calculated_host_listings_count_entire_homes',\n",
       "       'calculated_host_listings_count_private_rooms',\n",
       "       'calculated_host_listings_count_shared_rooms', 'reviews_per_month'],\n",
       "      dtype='object')"
      ]
     },
     "execution_count": 35,
     "metadata": {},
     "output_type": "execute_result"
    }
   ],
   "source": [
    "listings = pd.read_csv(\"listings.csv\")\n",
    "listings.columns\n"
   ]
  },
  {
   "cell_type": "code",
   "execution_count": 36,
   "id": "50e753f6",
   "metadata": {},
   "outputs": [
    {
     "name": "stderr",
     "output_type": "stream",
     "text": [
      "/var/folders/__/xdj9wy117vzd8wjwwhpp9sph0000gn/T/ipykernel_19794/1629374173.py:2: FutureWarning: The default value of regex will change from True to False in a future version. In addition, single character regular expressions will *not* be treated as literal strings when regex=True.\n",
      "  listings[\"price\"] = listings['price'].str.replace(\"$\",\"\").str.replace(\",\",\"\").astype(float)\n",
      "/Users/jeremyben-meir/opt/anaconda3/lib/python3.8/site-packages/statsmodels/tsa/tsatools.py:142: FutureWarning: In a future version of pandas all arguments of concat except for the argument 'objs' will be keyword-only.\n",
      "  x = pd.concat(x[::order], 1)\n"
     ]
    },
    {
     "data": {
      "text/plain": [
       "neighborhood_TRIBECA              319.201512\n",
       "neighborhood_FLATIRON             317.434750\n",
       "neighborhood_JAMAICA ESTATES      306.806998\n",
       "neighborhood_MIDTOWN              238.171332\n",
       "neighborhood_SOHO                 211.993228\n",
       "neighborhood_THEATER              183.252825\n",
       "neighborhood_WEST VILLAGE         180.626892\n",
       "neighborhood_MURRAY HILL          177.864433\n",
       "neighborhood_GREENWICH VILLAGE    158.162670\n",
       "neighborhood_CHELSEA              152.023399\n",
       "neighborhood_FINANCIAL            127.144620\n",
       "neighborhood_EAST VILLAGE         116.708387\n",
       "neighborhood_HELL'S KITCHEN       114.932977\n",
       "neighborhood_UPPER WEST SIDE      107.829249\n",
       "neighborhood_GRAMERCY             104.208515\n",
       "neighborhood_NOLITA                98.565600\n",
       "neighborhood_LOWER EAST SIDE       97.259569\n",
       "neighborhood_UPPER EAST SIDE       92.555050\n",
       "dtype: float64"
      ]
     },
     "execution_count": 36,
     "metadata": {},
     "output_type": "execute_result"
    }
   ],
   "source": [
    "listings['neighbourhood_cleansed'] = listings['neighbourhood_cleansed'].str.upper().str.replace(\" DISTRICT\",\"\")\n",
    "listings[\"price\"] = listings['price'].str.replace(\"$\",\"\").str.replace(\",\",\"\").astype(float)\n",
    "\n",
    "listings = listings[~listings['neighbourhood_cleansed'].isna()]\n",
    "listings = listings[~listings['number_of_reviews'].isna()]\n",
    "listings = listings[~listings['bedrooms'].isna()]\n",
    "listings = listings[~listings['beds'].isna()]\n",
    "listings = listings[~listings['host_identity_verified'].isna()]\n",
    "listings = listings[~listings['host_has_profile_pic'].isna()]\n",
    "listings = listings[~listings['room_type'].isna()]\n",
    "listings = listings[~listings['review_scores_rating'].isna()]\n",
    "listings = listings[~listings['minimum_nights'].isna()]\n",
    "listings = listings[~listings['host_is_superhost'].isna()]\n",
    "listings = listings[listings['price']>0]\n",
    "\n",
    "X = pd.concat([\n",
    "        pd.get_dummies(listings['neighbourhood_cleansed'], prefix=\"neighborhood\", drop_first=True),\n",
    "        listings['number_of_reviews'],\n",
    "        listings['bedrooms'],\n",
    "        listings['beds'],\n",
    "        pd.get_dummies(listings['host_is_superhost'], prefix=\"host_is_superhost\", drop_first=True),\n",
    "        pd.get_dummies(listings['host_has_profile_pic'], prefix=\"host_has_profile_pic\", drop_first=True),\n",
    "        pd.get_dummies(listings['host_identity_verified'], prefix=\"host_identity_verified\", drop_first=True),\n",
    "        pd.get_dummies(listings['room_type'], prefix=\"room_type\", drop_first=True),\n",
    "        listings['review_scores_rating'],\n",
    "        listings['minimum_nights'],\n",
    "    ],axis=1)\n",
    "\n",
    "Y = listings['price']\n",
    "X = sm.add_constant(X)\n",
    "model = sm.OLS(Y, X).fit()\n",
    "model.summary()\n",
    "\n",
    "neighborhood_params = model.params.loc[[val for val in model.params.index if \"neighborhood_\" in val]]\n",
    "significant_params = neighborhood_params[neighborhood_params.index.isin(model.pvalues[model.pvalues<=.05].index)]\n",
    "# neighborhood_params = significant_params.loc[[model.params.index]]\n",
    "significant_params.sort_values(ascending=False)\n"
   ]
  },
  {
   "cell_type": "code",
   "execution_count": 37,
   "id": "9a83087a",
   "metadata": {},
   "outputs": [],
   "source": [
    "# n = \"FLATIRON\"\n",
    "# print(sales.loc[sales['NEIGHBORHOOD']==n,\"PRICE/UNIT\"])\n",
    "# print(sales.loc[sales['NEIGHBORHOOD']==n,\"SALE PRICE\"])\n",
    "# print(sales.loc[sales['NEIGHBORHOOD']==n,\"TOTAL UNITS\"])\n",
    "# expected_price = sales.loc[sales['NEIGHBORHOOD']==n,\"PRICE/UNIT\"].mean()\n",
    "# expected_return = listings.loc[listings['neighbourhood_cleansed']==n,\"price\"].mean()*365\n",
    "# print(expected_price)\n",
    "# expected_return/expected_price"
   ]
  },
  {
   "cell_type": "markdown",
   "id": "296d7c10",
   "metadata": {},
   "source": [
    "# Get compound sentiment of each review"
   ]
  },
  {
   "cell_type": "code",
   "execution_count": 7,
   "id": "5a2b46a4",
   "metadata": {},
   "outputs": [
    {
     "name": "stderr",
     "output_type": "stream",
     "text": [
      "[nltk_data] Downloading package vader_lexicon to /Users/jeremyben-\n",
      "[nltk_data]     meir/nltk_data...\n",
      "[nltk_data]   Package vader_lexicon is already up-to-date!\n"
     ]
    }
   ],
   "source": [
    "import nltk\n",
    "from nltk.sentiment import SentimentIntensityAnalyzer\n",
    "nltk.download('vader_lexicon')\n",
    "sia = SentimentIntensityAnalyzer()\n",
    "reviews = pd.read_csv(\"reviews.csv\")\n",
    "reviews = reviews[~reviews[\"comments\"].isna()]\n",
    "# reviews[\"comments\"] = reviews[\"comments\"].astype(str)"
   ]
  },
  {
   "cell_type": "code",
   "execution_count": 8,
   "id": "dfa5cc98",
   "metadata": {},
   "outputs": [
    {
     "name": "stdout",
     "output_type": "stream",
     "text": [
      "927923\n",
      "100000\n",
      "200000\n",
      "300000\n",
      "400000\n",
      "500000\n",
      "600000\n",
      "700000\n",
      "800000\n",
      "900000\n"
     ]
    }
   ],
   "source": [
    "#add sentiment to reviews\n",
    "\n",
    "global count\n",
    "count = 0\n",
    "print(len(reviews[\"comments\"]))\n",
    "\n",
    "def add_score(comment):\n",
    "    try:\n",
    "        global count\n",
    "        count+=1\n",
    "        if count%100000 == 0:\n",
    "            print(count)\n",
    "        return sia.polarity_scores(comment)[\"compound\"]\n",
    "    except:\n",
    "        print(comment)\n",
    "\n",
    "reviews[\"sentiment\"] = reviews[\"comments\"].apply(lambda comment: add_score(comment))\n"
   ]
  },
  {
   "cell_type": "code",
   "execution_count": 30,
   "id": "c90201b3",
   "metadata": {},
   "outputs": [
    {
     "name": "stdout",
     "output_type": "stream",
     "text": [
      "25149\n",
      "927923\n",
      "25147\n"
     ]
    }
   ],
   "source": [
    "# merge average sentiment into reviews\n",
    "\n",
    "sentiment_df = reviews.groupby(\"listing_id\").agg({\"sentiment\":\"mean\"})\n",
    "listings_reviews = listings.merge(sentiment_df, how=\"inner\", left_on='id', right_on='listing_id')\n"
   ]
  },
  {
   "cell_type": "code",
   "execution_count": 51,
   "id": "9494c111",
   "metadata": {},
   "outputs": [
    {
     "name": "stdout",
     "output_type": "stream",
     "text": [
      "count    25147.000000\n",
      "mean         4.612306\n",
      "std          0.783162\n",
      "min          0.000000\n",
      "25%          4.600000\n",
      "50%          4.830000\n",
      "75%          5.000000\n",
      "max          5.000000\n",
      "Name: review_scores_rating, dtype: float64\n",
      "count    25147.000000\n",
      "mean         0.716129\n",
      "std          0.239857\n",
      "min         -0.998800\n",
      "25%          0.646336\n",
      "50%          0.768033\n",
      "75%          0.865819\n",
      "max          0.998700\n",
      "Name: sentiment, dtype: float64\n"
     ]
    }
   ],
   "source": [
    "reviews_summary = listings_reviews[\"review_scores_rating\"].describe()\n",
    "sentiment_summary = listings_reviews[\"sentiment\"].describe()\n",
    "print(reviews_summary)\n",
    "print(sentiment_summary)"
   ]
  },
  {
   "cell_type": "code",
   "execution_count": 48,
   "id": "14b529c4",
   "metadata": {},
   "outputs": [
    {
     "data": {
      "text/plain": [
       "array([0.90078986, 0.2236116 , 0.67824891, ..., 0.6617221 , 0.670106  ,\n",
       "       0.83942939])"
      ]
     },
     "execution_count": 48,
     "metadata": {},
     "output_type": "execute_result"
    }
   ],
   "source": [
    "N=100000\n",
    "np.clip(np.random.normal(reviews_summary[\"mean\"],reviews_summary[\"std\"],N),0,5)\n",
    "np.clip(np.random.normal(sentiment_summary[\"mean\"],sentiment_summary[\"std\"],N),-1,1)"
   ]
  },
  {
   "cell_type": "code",
   "execution_count": null,
   "id": "635fba2d",
   "metadata": {},
   "outputs": [],
   "source": []
  },
  {
   "cell_type": "code",
   "execution_count": null,
   "id": "3778d429",
   "metadata": {},
   "outputs": [],
   "source": []
  }
 ],
 "metadata": {
  "kernelspec": {
   "display_name": "Python 3 (ipykernel)",
   "language": "python",
   "name": "python3"
  },
  "language_info": {
   "codemirror_mode": {
    "name": "ipython",
    "version": 3
   },
   "file_extension": ".py",
   "mimetype": "text/x-python",
   "name": "python",
   "nbconvert_exporter": "python",
   "pygments_lexer": "ipython3",
   "version": "3.8.8"
  }
 },
 "nbformat": 4,
 "nbformat_minor": 5
}
