{
 "cells": [
  {
   "cell_type": "markdown",
   "id": "d3766c0e",
   "metadata": {},
   "source": [
    "# ORIE 3120\n",
    "\n",
    "Jeremy Ben-Meir (jsb459), Sunny Chavan (), Steven Urdaneta ()\n",
    "\n",
    "Monday, April 18, 2022"
   ]
  },
  {
   "cell_type": "code",
   "execution_count": 23,
   "id": "c5cd2bfc",
   "metadata": {},
   "outputs": [
    {
     "name": "stdout",
     "output_type": "stream",
     "text": [
      "Requirement already satisfied: gender_guesser in /Users/jeremyben-meir/opt/anaconda3/lib/python3.8/site-packages (0.4.0)\r\n"
     ]
    }
   ],
   "source": [
    "import pandas as pd\n",
    "import seaborn as sns\n",
    "import matplotlib.pyplot as plt\n",
    "\n",
    "import numpy as np\n",
    "import sys\n",
    "!{sys.executable} -m pip install gender_guesser\n",
    "import gender_guesser.detector as gender"
   ]
  },
  {
   "cell_type": "markdown",
   "id": "cd55cfff",
   "metadata": {},
   "source": [
    "Import relevant data"
   ]
  },
  {
   "cell_type": "code",
   "execution_count": 24,
   "id": "78f5504c",
   "metadata": {},
   "outputs": [
    {
     "name": "stderr",
     "output_type": "stream",
     "text": [
      "/var/folders/__/xdj9wy117vzd8wjwwhpp9sph0000gn/T/ipykernel_4736/1326942325.py:1: DtypeWarning: Columns (67) have mixed types. Specify dtype option on import or set low_memory=False.\n",
      "  listings_df = pd.read_csv(\"listings.csv\")\n"
     ]
    },
    {
     "data": {
      "text/html": [
       "<div>\n",
       "<style scoped>\n",
       "    .dataframe tbody tr th:only-of-type {\n",
       "        vertical-align: middle;\n",
       "    }\n",
       "\n",
       "    .dataframe tbody tr th {\n",
       "        vertical-align: top;\n",
       "    }\n",
       "\n",
       "    .dataframe thead th {\n",
       "        text-align: right;\n",
       "    }\n",
       "</style>\n",
       "<table border=\"1\" class=\"dataframe\">\n",
       "  <thead>\n",
       "    <tr style=\"text-align: right;\">\n",
       "      <th></th>\n",
       "      <th>id</th>\n",
       "      <th>listing_url</th>\n",
       "      <th>scrape_id</th>\n",
       "      <th>last_scraped</th>\n",
       "      <th>name</th>\n",
       "      <th>description</th>\n",
       "      <th>neighborhood_overview</th>\n",
       "      <th>picture_url</th>\n",
       "      <th>host_id</th>\n",
       "      <th>host_url</th>\n",
       "      <th>...</th>\n",
       "      <th>review_scores_communication</th>\n",
       "      <th>review_scores_location</th>\n",
       "      <th>review_scores_value</th>\n",
       "      <th>license</th>\n",
       "      <th>instant_bookable</th>\n",
       "      <th>calculated_host_listings_count</th>\n",
       "      <th>calculated_host_listings_count_entire_homes</th>\n",
       "      <th>calculated_host_listings_count_private_rooms</th>\n",
       "      <th>calculated_host_listings_count_shared_rooms</th>\n",
       "      <th>reviews_per_month</th>\n",
       "    </tr>\n",
       "  </thead>\n",
       "  <tbody>\n",
       "    <tr>\n",
       "      <th>0</th>\n",
       "      <td>2595</td>\n",
       "      <td>https://www.airbnb.com/rooms/2595</td>\n",
       "      <td>20220305031505</td>\n",
       "      <td>2022-03-05</td>\n",
       "      <td>Skylit Midtown Castle</td>\n",
       "      <td>Beautiful, spacious skylit studio in the heart...</td>\n",
       "      <td>Centrally located in the heart of Manhattan ju...</td>\n",
       "      <td>https://a0.muscache.com/pictures/f0813a11-40b2...</td>\n",
       "      <td>2845</td>\n",
       "      <td>https://www.airbnb.com/users/show/2845</td>\n",
       "      <td>...</td>\n",
       "      <td>4.79</td>\n",
       "      <td>4.86</td>\n",
       "      <td>4.41</td>\n",
       "      <td>NaN</td>\n",
       "      <td>f</td>\n",
       "      <td>3</td>\n",
       "      <td>3</td>\n",
       "      <td>0</td>\n",
       "      <td>0</td>\n",
       "      <td>0.32</td>\n",
       "    </tr>\n",
       "    <tr>\n",
       "      <th>1</th>\n",
       "      <td>5121</td>\n",
       "      <td>https://www.airbnb.com/rooms/5121</td>\n",
       "      <td>20220305031505</td>\n",
       "      <td>2022-03-05</td>\n",
       "      <td>BlissArtsSpace!</td>\n",
       "      <td>&lt;b&gt;The space&lt;/b&gt;&lt;br /&gt;HELLO EVERYONE AND THANK...</td>\n",
       "      <td>NaN</td>\n",
       "      <td>https://a0.muscache.com/pictures/2090980c-b68e...</td>\n",
       "      <td>7356</td>\n",
       "      <td>https://www.airbnb.com/users/show/7356</td>\n",
       "      <td>...</td>\n",
       "      <td>4.91</td>\n",
       "      <td>4.47</td>\n",
       "      <td>4.52</td>\n",
       "      <td>NaN</td>\n",
       "      <td>f</td>\n",
       "      <td>2</td>\n",
       "      <td>0</td>\n",
       "      <td>2</td>\n",
       "      <td>0</td>\n",
       "      <td>0.32</td>\n",
       "    </tr>\n",
       "    <tr>\n",
       "      <th>2</th>\n",
       "      <td>5136</td>\n",
       "      <td>https://www.airbnb.com/rooms/5136</td>\n",
       "      <td>20220305031505</td>\n",
       "      <td>2022-03-05</td>\n",
       "      <td>Spacious Brooklyn Duplex, Patio + Garden</td>\n",
       "      <td>We welcome you to stay in our lovely 2 br dupl...</td>\n",
       "      <td>NaN</td>\n",
       "      <td>https://a0.muscache.com/pictures/miso/Hosting-...</td>\n",
       "      <td>7378</td>\n",
       "      <td>https://www.airbnb.com/users/show/7378</td>\n",
       "      <td>...</td>\n",
       "      <td>5.00</td>\n",
       "      <td>4.50</td>\n",
       "      <td>5.00</td>\n",
       "      <td>NaN</td>\n",
       "      <td>f</td>\n",
       "      <td>1</td>\n",
       "      <td>1</td>\n",
       "      <td>0</td>\n",
       "      <td>0</td>\n",
       "      <td>0.02</td>\n",
       "    </tr>\n",
       "    <tr>\n",
       "      <th>3</th>\n",
       "      <td>5178</td>\n",
       "      <td>https://www.airbnb.com/rooms/5178</td>\n",
       "      <td>20220305031505</td>\n",
       "      <td>2022-03-05</td>\n",
       "      <td>Large Furnished Room Near B'way</td>\n",
       "      <td>Please don’t expect the luxury here just a bas...</td>\n",
       "      <td>Theater district, many restaurants around here.</td>\n",
       "      <td>https://a0.muscache.com/pictures/12065/f070997...</td>\n",
       "      <td>8967</td>\n",
       "      <td>https://www.airbnb.com/users/show/8967</td>\n",
       "      <td>...</td>\n",
       "      <td>4.43</td>\n",
       "      <td>4.87</td>\n",
       "      <td>4.37</td>\n",
       "      <td>NaN</td>\n",
       "      <td>f</td>\n",
       "      <td>1</td>\n",
       "      <td>0</td>\n",
       "      <td>1</td>\n",
       "      <td>0</td>\n",
       "      <td>3.33</td>\n",
       "    </tr>\n",
       "    <tr>\n",
       "      <th>4</th>\n",
       "      <td>5203</td>\n",
       "      <td>https://www.airbnb.com/rooms/5203</td>\n",
       "      <td>20220305031505</td>\n",
       "      <td>2022-03-30</td>\n",
       "      <td>Cozy Clean Guest Room - Family Apt</td>\n",
       "      <td>Our best guests are seeking a safe, clean, spa...</td>\n",
       "      <td>Our neighborhood is full of restaurants and ca...</td>\n",
       "      <td>https://a0.muscache.com/pictures/103776/b37157...</td>\n",
       "      <td>7490</td>\n",
       "      <td>https://www.airbnb.com/users/show/7490</td>\n",
       "      <td>...</td>\n",
       "      <td>4.95</td>\n",
       "      <td>4.94</td>\n",
       "      <td>4.92</td>\n",
       "      <td>NaN</td>\n",
       "      <td>f</td>\n",
       "      <td>1</td>\n",
       "      <td>0</td>\n",
       "      <td>1</td>\n",
       "      <td>0</td>\n",
       "      <td>0.77</td>\n",
       "    </tr>\n",
       "  </tbody>\n",
       "</table>\n",
       "<p>5 rows × 74 columns</p>\n",
       "</div>"
      ],
      "text/plain": [
       "     id                        listing_url       scrape_id last_scraped  \\\n",
       "0  2595  https://www.airbnb.com/rooms/2595  20220305031505   2022-03-05   \n",
       "1  5121  https://www.airbnb.com/rooms/5121  20220305031505   2022-03-05   \n",
       "2  5136  https://www.airbnb.com/rooms/5136  20220305031505   2022-03-05   \n",
       "3  5178  https://www.airbnb.com/rooms/5178  20220305031505   2022-03-05   \n",
       "4  5203  https://www.airbnb.com/rooms/5203  20220305031505   2022-03-30   \n",
       "\n",
       "                                       name  \\\n",
       "0                     Skylit Midtown Castle   \n",
       "1                           BlissArtsSpace!   \n",
       "2  Spacious Brooklyn Duplex, Patio + Garden   \n",
       "3          Large Furnished Room Near B'way　   \n",
       "4        Cozy Clean Guest Room - Family Apt   \n",
       "\n",
       "                                         description  \\\n",
       "0  Beautiful, spacious skylit studio in the heart...   \n",
       "1  <b>The space</b><br />HELLO EVERYONE AND THANK...   \n",
       "2  We welcome you to stay in our lovely 2 br dupl...   \n",
       "3  Please don’t expect the luxury here just a bas...   \n",
       "4  Our best guests are seeking a safe, clean, spa...   \n",
       "\n",
       "                               neighborhood_overview  \\\n",
       "0  Centrally located in the heart of Manhattan ju...   \n",
       "1                                                NaN   \n",
       "2                                                NaN   \n",
       "3    Theater district, many restaurants around here.   \n",
       "4  Our neighborhood is full of restaurants and ca...   \n",
       "\n",
       "                                         picture_url  host_id  \\\n",
       "0  https://a0.muscache.com/pictures/f0813a11-40b2...     2845   \n",
       "1  https://a0.muscache.com/pictures/2090980c-b68e...     7356   \n",
       "2  https://a0.muscache.com/pictures/miso/Hosting-...     7378   \n",
       "3  https://a0.muscache.com/pictures/12065/f070997...     8967   \n",
       "4  https://a0.muscache.com/pictures/103776/b37157...     7490   \n",
       "\n",
       "                                 host_url  ... review_scores_communication  \\\n",
       "0  https://www.airbnb.com/users/show/2845  ...                        4.79   \n",
       "1  https://www.airbnb.com/users/show/7356  ...                        4.91   \n",
       "2  https://www.airbnb.com/users/show/7378  ...                        5.00   \n",
       "3  https://www.airbnb.com/users/show/8967  ...                        4.43   \n",
       "4  https://www.airbnb.com/users/show/7490  ...                        4.95   \n",
       "\n",
       "  review_scores_location review_scores_value license instant_bookable  \\\n",
       "0                   4.86                4.41     NaN                f   \n",
       "1                   4.47                4.52     NaN                f   \n",
       "2                   4.50                5.00     NaN                f   \n",
       "3                   4.87                4.37     NaN                f   \n",
       "4                   4.94                4.92     NaN                f   \n",
       "\n",
       "  calculated_host_listings_count calculated_host_listings_count_entire_homes  \\\n",
       "0                              3                                           3   \n",
       "1                              2                                           0   \n",
       "2                              1                                           1   \n",
       "3                              1                                           0   \n",
       "4                              1                                           0   \n",
       "\n",
       "  calculated_host_listings_count_private_rooms  \\\n",
       "0                                            0   \n",
       "1                                            2   \n",
       "2                                            0   \n",
       "3                                            1   \n",
       "4                                            1   \n",
       "\n",
       "  calculated_host_listings_count_shared_rooms reviews_per_month  \n",
       "0                                           0              0.32  \n",
       "1                                           0              0.32  \n",
       "2                                           0              0.02  \n",
       "3                                           0              3.33  \n",
       "4                                           0              0.77  \n",
       "\n",
       "[5 rows x 74 columns]"
      ]
     },
     "execution_count": 24,
     "metadata": {},
     "output_type": "execute_result"
    }
   ],
   "source": [
    "listings_df = pd.read_csv(\"listings.csv\")\n",
    "listings_df[\"last_review\"] = listings_df[\"last_review\"].astype('datetime64[ns]')\n",
    "listings_df.head()"
   ]
  },
  {
   "cell_type": "code",
   "execution_count": 25,
   "id": "28f5780b",
   "metadata": {},
   "outputs": [
    {
     "data": {
      "text/html": [
       "<div>\n",
       "<style scoped>\n",
       "    .dataframe tbody tr th:only-of-type {\n",
       "        vertical-align: middle;\n",
       "    }\n",
       "\n",
       "    .dataframe tbody tr th {\n",
       "        vertical-align: top;\n",
       "    }\n",
       "\n",
       "    .dataframe thead th {\n",
       "        text-align: right;\n",
       "    }\n",
       "</style>\n",
       "<table border=\"1\" class=\"dataframe\">\n",
       "  <thead>\n",
       "    <tr style=\"text-align: right;\">\n",
       "      <th></th>\n",
       "      <th>neighbourhood_group</th>\n",
       "      <th>neighbourhood</th>\n",
       "    </tr>\n",
       "  </thead>\n",
       "  <tbody>\n",
       "    <tr>\n",
       "      <th>0</th>\n",
       "      <td>Bronx</td>\n",
       "      <td>Allerton</td>\n",
       "    </tr>\n",
       "    <tr>\n",
       "      <th>1</th>\n",
       "      <td>Bronx</td>\n",
       "      <td>Baychester</td>\n",
       "    </tr>\n",
       "    <tr>\n",
       "      <th>2</th>\n",
       "      <td>Bronx</td>\n",
       "      <td>Belmont</td>\n",
       "    </tr>\n",
       "    <tr>\n",
       "      <th>3</th>\n",
       "      <td>Bronx</td>\n",
       "      <td>Bronxdale</td>\n",
       "    </tr>\n",
       "    <tr>\n",
       "      <th>4</th>\n",
       "      <td>Bronx</td>\n",
       "      <td>Castle Hill</td>\n",
       "    </tr>\n",
       "  </tbody>\n",
       "</table>\n",
       "</div>"
      ],
      "text/plain": [
       "  neighbourhood_group neighbourhood\n",
       "0               Bronx      Allerton\n",
       "1               Bronx    Baychester\n",
       "2               Bronx       Belmont\n",
       "3               Bronx     Bronxdale\n",
       "4               Bronx   Castle Hill"
      ]
     },
     "execution_count": 25,
     "metadata": {},
     "output_type": "execute_result"
    }
   ],
   "source": [
    "neighbourhoods_df = pd.read_csv(\"neighbourhoods.csv\")\n",
    "neighbourhoods_df.head()"
   ]
  },
  {
   "cell_type": "code",
   "execution_count": 26,
   "id": "40ea405e",
   "metadata": {},
   "outputs": [
    {
     "data": {
      "text/html": [
       "<div>\n",
       "<style scoped>\n",
       "    .dataframe tbody tr th:only-of-type {\n",
       "        vertical-align: middle;\n",
       "    }\n",
       "\n",
       "    .dataframe tbody tr th {\n",
       "        vertical-align: top;\n",
       "    }\n",
       "\n",
       "    .dataframe thead th {\n",
       "        text-align: right;\n",
       "    }\n",
       "</style>\n",
       "<table border=\"1\" class=\"dataframe\">\n",
       "  <thead>\n",
       "    <tr style=\"text-align: right;\">\n",
       "      <th></th>\n",
       "      <th>listing_id</th>\n",
       "      <th>id</th>\n",
       "      <th>date</th>\n",
       "      <th>reviewer_id</th>\n",
       "      <th>reviewer_name</th>\n",
       "      <th>comments</th>\n",
       "    </tr>\n",
       "  </thead>\n",
       "  <tbody>\n",
       "    <tr>\n",
       "      <th>0</th>\n",
       "      <td>2595</td>\n",
       "      <td>17857</td>\n",
       "      <td>2009-11-21</td>\n",
       "      <td>50679</td>\n",
       "      <td>Jean</td>\n",
       "      <td>Notre séjour de trois nuits.\\r&lt;br/&gt;Nous avons ...</td>\n",
       "    </tr>\n",
       "    <tr>\n",
       "      <th>1</th>\n",
       "      <td>2595</td>\n",
       "      <td>19176</td>\n",
       "      <td>2009-12-05</td>\n",
       "      <td>53267</td>\n",
       "      <td>Cate</td>\n",
       "      <td>Great experience.</td>\n",
       "    </tr>\n",
       "    <tr>\n",
       "      <th>2</th>\n",
       "      <td>2595</td>\n",
       "      <td>19760</td>\n",
       "      <td>2009-12-10</td>\n",
       "      <td>38960</td>\n",
       "      <td>Anita</td>\n",
       "      <td>I've stayed with my friend at the Midtown Cast...</td>\n",
       "    </tr>\n",
       "    <tr>\n",
       "      <th>3</th>\n",
       "      <td>2595</td>\n",
       "      <td>34320</td>\n",
       "      <td>2010-04-09</td>\n",
       "      <td>71130</td>\n",
       "      <td>Kai-Uwe</td>\n",
       "      <td>We've been staying here for about 9 nights, en...</td>\n",
       "    </tr>\n",
       "    <tr>\n",
       "      <th>4</th>\n",
       "      <td>2595</td>\n",
       "      <td>46312</td>\n",
       "      <td>2010-05-25</td>\n",
       "      <td>117113</td>\n",
       "      <td>Alicia</td>\n",
       "      <td>We had a wonderful stay at Jennifer's charming...</td>\n",
       "    </tr>\n",
       "  </tbody>\n",
       "</table>\n",
       "</div>"
      ],
      "text/plain": [
       "   listing_id     id        date  reviewer_id reviewer_name  \\\n",
       "0        2595  17857  2009-11-21        50679          Jean   \n",
       "1        2595  19176  2009-12-05        53267          Cate   \n",
       "2        2595  19760  2009-12-10        38960         Anita   \n",
       "3        2595  34320  2010-04-09        71130       Kai-Uwe   \n",
       "4        2595  46312  2010-05-25       117113        Alicia   \n",
       "\n",
       "                                            comments  \n",
       "0  Notre séjour de trois nuits.\\r<br/>Nous avons ...  \n",
       "1                                  Great experience.  \n",
       "2  I've stayed with my friend at the Midtown Cast...  \n",
       "3  We've been staying here for about 9 nights, en...  \n",
       "4  We had a wonderful stay at Jennifer's charming...  "
      ]
     },
     "execution_count": 26,
     "metadata": {},
     "output_type": "execute_result"
    }
   ],
   "source": [
    "reviews_df = pd.read_csv(\"reviews.csv\")\n",
    "reviews_df.head()"
   ]
  },
  {
   "cell_type": "markdown",
   "id": "9d984a3c",
   "metadata": {},
   "source": [
    "Plot fields"
   ]
  },
  {
   "cell_type": "code",
   "execution_count": 27,
   "id": "6b3a7936",
   "metadata": {},
   "outputs": [],
   "source": [
    "# sns.pairplot(listings_df)"
   ]
  },
  {
   "cell_type": "markdown",
   "id": "b956e4d9",
   "metadata": {},
   "source": [
    "Not all of these relationships are interesting..."
   ]
  },
  {
   "cell_type": "code",
   "execution_count": 28,
   "id": "07057b84",
   "metadata": {},
   "outputs": [],
   "source": [
    "listings_df_limited = listings_df.drop([\"id\",\"latitude\",\"longitude\",\"host_id\"],axis=1)\n",
    "# sns.pairplot(listings_df_limited)"
   ]
  },
  {
   "cell_type": "markdown",
   "id": "41a5d0e2",
   "metadata": {},
   "source": [
    "One-on-one relationships"
   ]
  },
  {
   "cell_type": "code",
   "execution_count": 29,
   "id": "bacf530e",
   "metadata": {},
   "outputs": [
    {
     "name": "stderr",
     "output_type": "stream",
     "text": [
      "/var/folders/__/xdj9wy117vzd8wjwwhpp9sph0000gn/T/ipykernel_4736/3123837984.py:2: FutureWarning: The default value of regex will change from True to False in a future version. In addition, single character regular expressions will *not* be treated as literal strings when regex=True.\n",
      "  listings_df[\"price\"] = listings_df['price'].str.replace(\"$\",\"\").str.replace(\",\",\"\").astype(float)\n"
     ]
    },
    {
     "data": {
      "text/plain": [
       "Text(0.5, 1.0, 'Figure 3: Price vs. Number of Reviews')"
      ]
     },
     "execution_count": 29,
     "metadata": {},
     "output_type": "execute_result"
    },
    {
     "data": {
      "image/png": "[encoded data removed]",
      "text/plain": [
       "<Figure size 864x576 with 1 Axes>"
      ]
     },
     "metadata": {
      "needs_background": "light"
     },
     "output_type": "display_data"
    }
   ],
   "source": [
    "fig, ax = plt.subplots(figsize=(12,8))\n",
    "listings_df[\"price\"] = listings_df['price'].str.replace(\"$\",\"\").str.replace(\",\",\"\").astype(float)\n",
    "listings_df[\"minimum_nights\"] = listings_df[\"minimum_nights\"].astype(float)\n",
    "listings_df[\"price_nightly\"] = listings_df[\"price\"]#*(listings_df[\"minimum_nights\"]/1000.0).pow(.5)\n",
    "plt.scatter(listings_df[\"price\"],listings_df[\"number_of_reviews\"],s=10)\n",
    "plt.xlabel(\"price\")\n",
    "plt.ylabel(\"number_of_reviews\")\n",
    "listings_df[(listings_df[\"price\"]>=500)&(listings_df[\"price\"]>500)][\"number_of_reviews\"].mean()\n",
    "plt.title(\"Figure 3: Price vs. Number of Reviews\")\n"
   ]
  },
  {
   "cell_type": "code",
   "execution_count": 30,
   "id": "c134407c",
   "metadata": {},
   "outputs": [
    {
     "data": {
      "text/plain": [
       "Text(0.5, 1.0, 'Figure 4: Minimum Nights vs. Number of Reviews')"
      ]
     },
     "execution_count": 30,
     "metadata": {},
     "output_type": "execute_result"
    },
    {
     "data": {
      "image/png": "[encoded data removed]",
      "text/plain": [
       "<Figure size 864x576 with 1 Axes>"
      ]
     },
     "metadata": {
      "needs_background": "light"
     },
     "output_type": "display_data"
    }
   ],
   "source": [
    "fig, ax = plt.subplots(figsize=(12,8))\n",
    "listings_df[\"sq_minimum_nights\"] = listings_df[\"minimum_nights\"].pow(1/2)\n",
    "plt.scatter(listings_df[\"sq_minimum_nights\"],listings_df[\"number_of_reviews\"],s=10)\n",
    "plt.xlabel(\"minimum_nights\")\n",
    "plt.ylabel(\"number_of_reviews\")\n",
    "plt.title(\"Figure 4: Minimum Nights vs. Number of Reviews\")\n"
   ]
  },
  {
   "cell_type": "code",
   "execution_count": 31,
   "id": "3c11cce8",
   "metadata": {},
   "outputs": [
    {
     "data": {
      "text/plain": [
       "Text(0, 0.5, 'minimum_nights')"
      ]
     },
     "execution_count": 31,
     "metadata": {},
     "output_type": "execute_result"
    },
    {
     "data": {
      "image/png": "[encoded data removed]",
      "text/plain": [
       "<Figure size 432x288 with 1 Axes>"
      ]
     },
     "metadata": {
      "needs_background": "light"
     },
     "output_type": "display_data"
    }
   ],
   "source": [
    "plt.scatter(listings_df[\"price\"],listings_df[\"minimum_nights\"])\n",
    "plt.xlabel(\"price\")\n",
    "plt.ylabel(\"minimum_nights\")"
   ]
  },
  {
   "cell_type": "markdown",
   "id": "e6b8ca1c",
   "metadata": {},
   "source": [
    "Plotting categorical variables & date"
   ]
  },
  {
   "cell_type": "code",
   "execution_count": 32,
   "id": "699ea276",
   "metadata": {},
   "outputs": [
    {
     "name": "stdout",
     "output_type": "stream",
     "text": [
      "['Manhattan' 'Brooklyn' 'Queens' 'Staten Island' 'Bronx']\n",
      "['Entire home/apt' 'Private room' 'Hotel room' 'Shared room']\n"
     ]
    }
   ],
   "source": [
    "print(listings_df[\"neighbourhood_group_cleansed\"].unique())\n",
    "print(listings_df[\"room_type\"].unique())"
   ]
  },
  {
   "cell_type": "code",
   "execution_count": 33,
   "id": "7d547202",
   "metadata": {},
   "outputs": [
    {
     "data": {
      "text/plain": [
       "Text(0.5, 1.0, 'Figure 5: Landlord Inferred Gender vs. Number of Reviews')"
      ]
     },
     "execution_count": 33,
     "metadata": {},
     "output_type": "execute_result"
    },
    {
     "data": {
      "image/png": "[encoded data removed]",
      "text/plain": [
       "<Figure size 720x576 with 1 Axes>"
      ]
     },
     "metadata": {
      "needs_background": "light"
     },
     "output_type": "display_data"
    }
   ],
   "source": [
    "d = gender.Detector()\n",
    "listings_df[\"gender\"] = listings_df[\"host_name\"].apply(lambda x : d.get_gender(x))\n",
    "\n",
    "fig, ax = plt.subplots(figsize=(10,8))\n",
    "plt.suptitle('')\n",
    "listings_df.boxplot(column='number_of_reviews',by=\"gender\",ax=ax,showfliers=False)\n",
    "plt.title(\"Figure 5: Landlord Inferred Gender vs. Number of Reviews\")"
   ]
  },
  {
   "cell_type": "code",
   "execution_count": 34,
   "id": "e38b7248",
   "metadata": {},
   "outputs": [
    {
     "name": "stdout",
     "output_type": "stream",
     "text": [
      "neighbourhood_group_cleansed\n",
      "Bronx            104.946800\n",
      "Brooklyn         134.872973\n",
      "Manhattan        218.186187\n",
      "Queens           113.591844\n",
      "Staten Island    121.877612\n",
      "Name: price, dtype: float64\n"
     ]
    },
    {
     "data": {
      "text/plain": [
       "Text(0.5, 1.0, 'Figure 1: Price by Borough')"
      ]
     },
     "execution_count": 34,
     "metadata": {},
     "output_type": "execute_result"
    },
    {
     "data": {
      "image/png": "[encoded data removed]",
      "text/plain": [
       "<Figure size 720x576 with 1 Axes>"
      ]
     },
     "metadata": {
      "needs_background": "light"
     },
     "output_type": "display_data"
    }
   ],
   "source": [
    "fig, ax = plt.subplots(figsize=(10,8))\n",
    "plt.suptitle('')\n",
    "print(listings_df.groupby('neighbourhood_group_cleansed')['price'].mean())\n",
    "listings_df.boxplot(column='price',by=\"neighbourhood_group_cleansed\",ax=ax,showfliers=False)\n",
    "plt.ylabel(\"price\")\n",
    "plt.title(\"Figure 1: Price by Borough\")"
   ]
  },
  {
   "cell_type": "code",
   "execution_count": 37,
   "id": "5f640640",
   "metadata": {},
   "outputs": [
    {
     "name": "stdout",
     "output_type": "stream",
     "text": [
      "['Queens', 'Staten Island', 'Manhattan', 'Manhattan', 'Queens', 'Bronx', 'Manhattan', 'Manhattan', 'Manhattan', 'Staten Island', 'Manhattan', 'Queens', 'Manhattan', 'Manhattan', 'Brooklyn', 'Brooklyn', 'Manhattan', 'Brooklyn', 'Brooklyn', 'Manhattan']\n"
     ]
    },
    {
     "data": {
      "image/png": "[encoded data removed]",
      "text/plain": [
       "<Figure size 720x432 with 1 Axes>"
      ]
     },
     "metadata": {
      "needs_background": "light"
     },
     "output_type": "display_data"
    }
   ],
   "source": [
    "fig, ax = plt.subplots(figsize=(10,6))\n",
    "colors = {\"Bronx\": 'r', \"Brooklyn\": 'b', \"Manhattan\": 'g', \"Queens\": 'y', \"Staten Island\": 'orange'}\n",
    "no_demand = listings_df.groupby('neighbourhood_cleansed')['number_of_reviews'].sum().sort_values()[:10].index.to_list()\n",
    "listings_df = listings_df[~listings_df[\"neighbourhood\"].isin(no_demand)]\n",
    "neighborhood_prices = listings_df.groupby('neighbourhood_cleansed').agg({'neighbourhood_group_cleansed':\"max\",'price_nightly':\"mean\"}).sort_values(\"price_nightly\",ascending=False)\n",
    "color_col = neighborhood_prices['neighbourhood_group_cleansed'][:20].to_list()\n",
    "neighborhood_prices['price_nightly'][:20].plot.bar()#color=[colors[i] for i in color_col])\n",
    "plt.ylabel(\"price\")\n",
    "plt.title(\"Figure 1: Most Expensive Neighborhoods\")\n",
    "\n",
    "print(color_col)\n"
   ]
  },
  {
   "cell_type": "code",
   "execution_count": null,
   "id": "57579108",
   "metadata": {},
   "outputs": [],
   "source": []
  },
  {
   "cell_type": "code",
   "execution_count": null,
   "id": "a2fc5ed4",
   "metadata": {},
   "outputs": [],
   "source": [
    "fig, ax = plt.subplots(figsize=(5,4))\n",
    "plt.suptitle('')\n",
    "listings_df.boxplot(column='number_of_reviews',by=\"neighbourhood_group\",ax=ax,showfliers=False)\n",
    "plt.ylabel(\"number_of_reviews\")"
   ]
  },
  {
   "cell_type": "code",
   "execution_count": null,
   "id": "0395e233",
   "metadata": {},
   "outputs": [],
   "source": [
    "plt.scatter(listings_df[\"number_of_reviews\"],listings_df[\"last_review\"])\n",
    "plt.xlabel(\"number_of_reviews\")\n",
    "plt.ylabel(\"last_review\")"
   ]
  }
 ],
 "metadata": {
  "kernelspec": {
   "display_name": "Python 3 (ipykernel)",
   "language": "python",
   "name": "python3"
  },
  "language_info": {
   "codemirror_mode": {
    "name": "ipython",
    "version": 3
   },
   "file_extension": ".py",
   "mimetype": "text/x-python",
   "name": "python",
   "nbconvert_exporter": "python",
   "pygments_lexer": "ipython3",
   "version": "3.8.8"
  }
 },
 "nbformat": 4,
 "nbformat_minor": 5
}
